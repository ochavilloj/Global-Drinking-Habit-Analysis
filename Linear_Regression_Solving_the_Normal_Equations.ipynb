{
  "nbformat": 4,
  "nbformat_minor": 0,
  "metadata": {
    "colab": {
      "provenance": [],
      "include_colab_link": true
    },
    "kernelspec": {
      "name": "python3",
      "display_name": "Python 3"
    },
    "language_info": {
      "name": "python"
    }
  },
  "cells": [
    {
      "cell_type": "markdown",
      "metadata": {
        "id": "view-in-github",
        "colab_type": "text"
      },
      "source": [
        "<a href=\"https://colab.research.google.com/github/ochavilloj/Global-Drinking-Habit-Analysis/blob/master/Linear_Regression_Solving_the_Normal_Equations.ipynb\" target=\"_parent\"><img src=\"https://colab.research.google.com/assets/colab-badge.svg\" alt=\"Open In Colab\"/></a>"
      ]
    },
    {
      "cell_type": "markdown",
      "source": [
        "# Chapter 4: Numerical methods for solving the normal equations"
      ],
      "metadata": {
        "id": "FhZ9q4YRD6hk"
      }
    },
    {
      "cell_type": "markdown",
      "source": [
        "## Imports"
      ],
      "metadata": {
        "id": "JRjdB_J1Mc5H"
      }
    },
    {
      "cell_type": "code",
      "execution_count": 1,
      "metadata": {
        "id": "dtL55HeFMNIk"
      },
      "outputs": [],
      "source": [
        "# Import pandas, numpy, and matplotlib\n",
        "import pandas as pd\n",
        "import numpy as np\n",
        "import matplotlib.pyplot as plt\n",
        "\n",
        "# seaborn is a data visualization library built on matplotlib\n",
        "import seaborn as sns\n",
        "# set the plotting style\n",
        "sns.set_style(\"whitegrid\")\n",
        "\n",
        "# Train-test splits\n",
        "from sklearn.model_selection import train_test_split\n",
        "\n",
        "#Model preprocessing\n",
        "from sklearn import preprocessing\n",
        "\n",
        "# Linear regression models\n",
        "from sklearn.linear_model import LinearRegression\n",
        "import statsmodels.api as sm\n",
        "\n",
        "# Model metrics\n",
        "from sklearn.metrics import mean_squared_error, mean_absolute_error\n",
        "\n",
        "# Linear algebra\n",
        "from scipy import linalg"
      ]
    },
    {
      "cell_type": "code",
      "source": [
        "0.3 - 0.1"
      ],
      "metadata": {
        "colab": {
          "base_uri": "https://localhost:8080/"
        },
        "id": "R6XDBwBkUq0q",
        "outputId": "e35ef8b9-3457-4f51-be67-eb2356b39c1e"
      },
      "execution_count": 2,
      "outputs": [
        {
          "output_type": "execute_result",
          "data": {
            "text/plain": [
              "0.19999999999999998"
            ]
          },
          "metadata": {},
          "execution_count": 2
        }
      ]
    },
    {
      "cell_type": "markdown",
      "source": [
        "## Load the data"
      ],
      "metadata": {
        "id": "VlLZLmr7Me5V"
      }
    },
    {
      "cell_type": "markdown",
      "metadata": {
        "id": "52FPfzu2mePp"
      },
      "source": [
        "##### $\\rightarrow$ Load the `EdGap` data set."
      ]
    },
    {
      "cell_type": "code",
      "metadata": {
        "id": "x9lfE8rE50C7",
        "colab": {
          "base_uri": "https://localhost:8080/"
        },
        "outputId": "c0a82bb1-2164-4140-ebf5-26086cef0708"
      },
      "source": [
        "df = pd.read_excel('https://raw.githubusercontent.com/brian-fischer/DATA-5100/main/EdGap_data.xlsx', dtype={'NCESSCH School ID':object})"
      ],
      "execution_count": 3,
      "outputs": [
        {
          "output_type": "stream",
          "name": "stderr",
          "text": [
            "/usr/local/lib/python3.10/dist-packages/openpyxl/worksheet/_reader.py:329: UserWarning: Unknown extension is not supported and will be removed\n",
            "  warn(msg)\n"
          ]
        }
      ]
    },
    {
      "cell_type": "markdown",
      "metadata": {
        "id": "Se4jK94kmhy8"
      },
      "source": [
        "##### $\\rightarrow$ Explore the data set."
      ]
    },
    {
      "cell_type": "code",
      "metadata": {
        "id": "7c7z3BKcBGdg",
        "colab": {
          "base_uri": "https://localhost:8080/",
          "height": 313
        },
        "outputId": "4b8081bf-09f1-40fa-ba25-0014feadc0c6"
      },
      "source": [
        "df.head()"
      ],
      "execution_count": 4,
      "outputs": [
        {
          "output_type": "execute_result",
          "data": {
            "text/plain": [
              "  NCESSCH School ID  CT Unemployment Rate  CT Pct Adults with College Degree  \\\n",
              "0      100001600143              0.117962                           0.445283   \n",
              "1      100008000024              0.063984                           0.662765   \n",
              "2      100008000225              0.056460                           0.701864   \n",
              "3      100017000029              0.044739                           0.692062   \n",
              "4      100018000040              0.077014                           0.640060   \n",
              "\n",
              "   CT Pct Childre In Married Couple Family  CT Median Household Income  \\\n",
              "0                                 0.346495                     42820.0   \n",
              "1                                 0.767619                     89320.0   \n",
              "2                                 0.713090                     84140.0   \n",
              "3                                 0.641283                     56500.0   \n",
              "4                                 0.834402                     54015.0   \n",
              "\n",
              "   School ACT average (or equivalent if SAT score)  \\\n",
              "0                                        20.433455   \n",
              "1                                        19.498168   \n",
              "2                                        19.554335   \n",
              "3                                        17.737485   \n",
              "4                                        18.245421   \n",
              "\n",
              "   School Pct Free and Reduced Lunch  \n",
              "0                           0.066901  \n",
              "1                           0.112412  \n",
              "2                           0.096816  \n",
              "3                           0.296960  \n",
              "4                           0.262641  "
            ],
            "text/html": [
              "\n",
              "  <div id=\"df-b6013e4e-2edf-4a61-a53e-922a981dca3f\" class=\"colab-df-container\">\n",
              "    <div>\n",
              "<style scoped>\n",
              "    .dataframe tbody tr th:only-of-type {\n",
              "        vertical-align: middle;\n",
              "    }\n",
              "\n",
              "    .dataframe tbody tr th {\n",
              "        vertical-align: top;\n",
              "    }\n",
              "\n",
              "    .dataframe thead th {\n",
              "        text-align: right;\n",
              "    }\n",
              "</style>\n",
              "<table border=\"1\" class=\"dataframe\">\n",
              "  <thead>\n",
              "    <tr style=\"text-align: right;\">\n",
              "      <th></th>\n",
              "      <th>NCESSCH School ID</th>\n",
              "      <th>CT Unemployment Rate</th>\n",
              "      <th>CT Pct Adults with College Degree</th>\n",
              "      <th>CT Pct Childre In Married Couple Family</th>\n",
              "      <th>CT Median Household Income</th>\n",
              "      <th>School ACT average (or equivalent if SAT score)</th>\n",
              "      <th>School Pct Free and Reduced Lunch</th>\n",
              "    </tr>\n",
              "  </thead>\n",
              "  <tbody>\n",
              "    <tr>\n",
              "      <th>0</th>\n",
              "      <td>100001600143</td>\n",
              "      <td>0.117962</td>\n",
              "      <td>0.445283</td>\n",
              "      <td>0.346495</td>\n",
              "      <td>42820.0</td>\n",
              "      <td>20.433455</td>\n",
              "      <td>0.066901</td>\n",
              "    </tr>\n",
              "    <tr>\n",
              "      <th>1</th>\n",
              "      <td>100008000024</td>\n",
              "      <td>0.063984</td>\n",
              "      <td>0.662765</td>\n",
              "      <td>0.767619</td>\n",
              "      <td>89320.0</td>\n",
              "      <td>19.498168</td>\n",
              "      <td>0.112412</td>\n",
              "    </tr>\n",
              "    <tr>\n",
              "      <th>2</th>\n",
              "      <td>100008000225</td>\n",
              "      <td>0.056460</td>\n",
              "      <td>0.701864</td>\n",
              "      <td>0.713090</td>\n",
              "      <td>84140.0</td>\n",
              "      <td>19.554335</td>\n",
              "      <td>0.096816</td>\n",
              "    </tr>\n",
              "    <tr>\n",
              "      <th>3</th>\n",
              "      <td>100017000029</td>\n",
              "      <td>0.044739</td>\n",
              "      <td>0.692062</td>\n",
              "      <td>0.641283</td>\n",
              "      <td>56500.0</td>\n",
              "      <td>17.737485</td>\n",
              "      <td>0.296960</td>\n",
              "    </tr>\n",
              "    <tr>\n",
              "      <th>4</th>\n",
              "      <td>100018000040</td>\n",
              "      <td>0.077014</td>\n",
              "      <td>0.640060</td>\n",
              "      <td>0.834402</td>\n",
              "      <td>54015.0</td>\n",
              "      <td>18.245421</td>\n",
              "      <td>0.262641</td>\n",
              "    </tr>\n",
              "  </tbody>\n",
              "</table>\n",
              "</div>\n",
              "    <div class=\"colab-df-buttons\">\n",
              "\n",
              "  <div class=\"colab-df-container\">\n",
              "    <button class=\"colab-df-convert\" onclick=\"convertToInteractive('df-b6013e4e-2edf-4a61-a53e-922a981dca3f')\"\n",
              "            title=\"Convert this dataframe to an interactive table.\"\n",
              "            style=\"display:none;\">\n",
              "\n",
              "  <svg xmlns=\"http://www.w3.org/2000/svg\" height=\"24px\" viewBox=\"0 -960 960 960\">\n",
              "    <path d=\"M120-120v-720h720v720H120Zm60-500h600v-160H180v160Zm220 220h160v-160H400v160Zm0 220h160v-160H400v160ZM180-400h160v-160H180v160Zm440 0h160v-160H620v160ZM180-180h160v-160H180v160Zm440 0h160v-160H620v160Z\"/>\n",
              "  </svg>\n",
              "    </button>\n",
              "\n",
              "  <style>\n",
              "    .colab-df-container {\n",
              "      display:flex;\n",
              "      gap: 12px;\n",
              "    }\n",
              "\n",
              "    .colab-df-convert {\n",
              "      background-color: #E8F0FE;\n",
              "      border: none;\n",
              "      border-radius: 50%;\n",
              "      cursor: pointer;\n",
              "      display: none;\n",
              "      fill: #1967D2;\n",
              "      height: 32px;\n",
              "      padding: 0 0 0 0;\n",
              "      width: 32px;\n",
              "    }\n",
              "\n",
              "    .colab-df-convert:hover {\n",
              "      background-color: #E2EBFA;\n",
              "      box-shadow: 0px 1px 2px rgba(60, 64, 67, 0.3), 0px 1px 3px 1px rgba(60, 64, 67, 0.15);\n",
              "      fill: #174EA6;\n",
              "    }\n",
              "\n",
              "    .colab-df-buttons div {\n",
              "      margin-bottom: 4px;\n",
              "    }\n",
              "\n",
              "    [theme=dark] .colab-df-convert {\n",
              "      background-color: #3B4455;\n",
              "      fill: #D2E3FC;\n",
              "    }\n",
              "\n",
              "    [theme=dark] .colab-df-convert:hover {\n",
              "      background-color: #434B5C;\n",
              "      box-shadow: 0px 1px 3px 1px rgba(0, 0, 0, 0.15);\n",
              "      filter: drop-shadow(0px 1px 2px rgba(0, 0, 0, 0.3));\n",
              "      fill: #FFFFFF;\n",
              "    }\n",
              "  </style>\n",
              "\n",
              "    <script>\n",
              "      const buttonEl =\n",
              "        document.querySelector('#df-b6013e4e-2edf-4a61-a53e-922a981dca3f button.colab-df-convert');\n",
              "      buttonEl.style.display =\n",
              "        google.colab.kernel.accessAllowed ? 'block' : 'none';\n",
              "\n",
              "      async function convertToInteractive(key) {\n",
              "        const element = document.querySelector('#df-b6013e4e-2edf-4a61-a53e-922a981dca3f');\n",
              "        const dataTable =\n",
              "          await google.colab.kernel.invokeFunction('convertToInteractive',\n",
              "                                                    [key], {});\n",
              "        if (!dataTable) return;\n",
              "\n",
              "        const docLinkHtml = 'Like what you see? Visit the ' +\n",
              "          '<a target=\"_blank\" href=https://colab.research.google.com/notebooks/data_table.ipynb>data table notebook</a>'\n",
              "          + ' to learn more about interactive tables.';\n",
              "        element.innerHTML = '';\n",
              "        dataTable['output_type'] = 'display_data';\n",
              "        await google.colab.output.renderOutput(dataTable, element);\n",
              "        const docLink = document.createElement('div');\n",
              "        docLink.innerHTML = docLinkHtml;\n",
              "        element.appendChild(docLink);\n",
              "      }\n",
              "    </script>\n",
              "  </div>\n",
              "\n",
              "\n",
              "<div id=\"df-fb6b42d5-9bde-40e1-91c1-853be8ce72cc\">\n",
              "  <button class=\"colab-df-quickchart\" onclick=\"quickchart('df-fb6b42d5-9bde-40e1-91c1-853be8ce72cc')\"\n",
              "            title=\"Suggest charts\"\n",
              "            style=\"display:none;\">\n",
              "\n",
              "<svg xmlns=\"http://www.w3.org/2000/svg\" height=\"24px\"viewBox=\"0 0 24 24\"\n",
              "     width=\"24px\">\n",
              "    <g>\n",
              "        <path d=\"M19 3H5c-1.1 0-2 .9-2 2v14c0 1.1.9 2 2 2h14c1.1 0 2-.9 2-2V5c0-1.1-.9-2-2-2zM9 17H7v-7h2v7zm4 0h-2V7h2v10zm4 0h-2v-4h2v4z\"/>\n",
              "    </g>\n",
              "</svg>\n",
              "  </button>\n",
              "\n",
              "<style>\n",
              "  .colab-df-quickchart {\n",
              "      --bg-color: #E8F0FE;\n",
              "      --fill-color: #1967D2;\n",
              "      --hover-bg-color: #E2EBFA;\n",
              "      --hover-fill-color: #174EA6;\n",
              "      --disabled-fill-color: #AAA;\n",
              "      --disabled-bg-color: #DDD;\n",
              "  }\n",
              "\n",
              "  [theme=dark] .colab-df-quickchart {\n",
              "      --bg-color: #3B4455;\n",
              "      --fill-color: #D2E3FC;\n",
              "      --hover-bg-color: #434B5C;\n",
              "      --hover-fill-color: #FFFFFF;\n",
              "      --disabled-bg-color: #3B4455;\n",
              "      --disabled-fill-color: #666;\n",
              "  }\n",
              "\n",
              "  .colab-df-quickchart {\n",
              "    background-color: var(--bg-color);\n",
              "    border: none;\n",
              "    border-radius: 50%;\n",
              "    cursor: pointer;\n",
              "    display: none;\n",
              "    fill: var(--fill-color);\n",
              "    height: 32px;\n",
              "    padding: 0;\n",
              "    width: 32px;\n",
              "  }\n",
              "\n",
              "  .colab-df-quickchart:hover {\n",
              "    background-color: var(--hover-bg-color);\n",
              "    box-shadow: 0 1px 2px rgba(60, 64, 67, 0.3), 0 1px 3px 1px rgba(60, 64, 67, 0.15);\n",
              "    fill: var(--button-hover-fill-color);\n",
              "  }\n",
              "\n",
              "  .colab-df-quickchart-complete:disabled,\n",
              "  .colab-df-quickchart-complete:disabled:hover {\n",
              "    background-color: var(--disabled-bg-color);\n",
              "    fill: var(--disabled-fill-color);\n",
              "    box-shadow: none;\n",
              "  }\n",
              "\n",
              "  .colab-df-spinner {\n",
              "    border: 2px solid var(--fill-color);\n",
              "    border-color: transparent;\n",
              "    border-bottom-color: var(--fill-color);\n",
              "    animation:\n",
              "      spin 1s steps(1) infinite;\n",
              "  }\n",
              "\n",
              "  @keyframes spin {\n",
              "    0% {\n",
              "      border-color: transparent;\n",
              "      border-bottom-color: var(--fill-color);\n",
              "      border-left-color: var(--fill-color);\n",
              "    }\n",
              "    20% {\n",
              "      border-color: transparent;\n",
              "      border-left-color: var(--fill-color);\n",
              "      border-top-color: var(--fill-color);\n",
              "    }\n",
              "    30% {\n",
              "      border-color: transparent;\n",
              "      border-left-color: var(--fill-color);\n",
              "      border-top-color: var(--fill-color);\n",
              "      border-right-color: var(--fill-color);\n",
              "    }\n",
              "    40% {\n",
              "      border-color: transparent;\n",
              "      border-right-color: var(--fill-color);\n",
              "      border-top-color: var(--fill-color);\n",
              "    }\n",
              "    60% {\n",
              "      border-color: transparent;\n",
              "      border-right-color: var(--fill-color);\n",
              "    }\n",
              "    80% {\n",
              "      border-color: transparent;\n",
              "      border-right-color: var(--fill-color);\n",
              "      border-bottom-color: var(--fill-color);\n",
              "    }\n",
              "    90% {\n",
              "      border-color: transparent;\n",
              "      border-bottom-color: var(--fill-color);\n",
              "    }\n",
              "  }\n",
              "</style>\n",
              "\n",
              "  <script>\n",
              "    async function quickchart(key) {\n",
              "      const quickchartButtonEl =\n",
              "        document.querySelector('#' + key + ' button');\n",
              "      quickchartButtonEl.disabled = true;  // To prevent multiple clicks.\n",
              "      quickchartButtonEl.classList.add('colab-df-spinner');\n",
              "      try {\n",
              "        const charts = await google.colab.kernel.invokeFunction(\n",
              "            'suggestCharts', [key], {});\n",
              "      } catch (error) {\n",
              "        console.error('Error during call to suggestCharts:', error);\n",
              "      }\n",
              "      quickchartButtonEl.classList.remove('colab-df-spinner');\n",
              "      quickchartButtonEl.classList.add('colab-df-quickchart-complete');\n",
              "    }\n",
              "    (() => {\n",
              "      let quickchartButtonEl =\n",
              "        document.querySelector('#df-fb6b42d5-9bde-40e1-91c1-853be8ce72cc button');\n",
              "      quickchartButtonEl.style.display =\n",
              "        google.colab.kernel.accessAllowed ? 'block' : 'none';\n",
              "    })();\n",
              "  </script>\n",
              "</div>\n",
              "\n",
              "    </div>\n",
              "  </div>\n"
            ],
            "application/vnd.google.colaboratory.intrinsic+json": {
              "type": "dataframe",
              "variable_name": "df",
              "summary": "{\n  \"name\": \"df\",\n  \"rows\": 7986,\n  \"fields\": [\n    {\n      \"column\": \"NCESSCH School ID\",\n      \"properties\": {\n        \"dtype\": \"date\",\n        \"min\": 100001600143,\n        \"max\": 560583000335,\n        \"num_unique_values\": 7986,\n        \"samples\": [\n          390487903405,\n          170993005792,\n          551269001670\n        ],\n        \"semantic_type\": \"\",\n        \"description\": \"\"\n      }\n    },\n    {\n      \"column\": \"CT Unemployment Rate\",\n      \"properties\": {\n        \"dtype\": \"number\",\n        \"std\": 0.05895866375580089,\n        \"min\": 0.0,\n        \"max\": 0.590277777777778,\n        \"num_unique_values\": 7312,\n        \"samples\": [\n          0.081255028157683,\n          0.0856921287320667,\n          0.084409594095941\n        ],\n        \"semantic_type\": \"\",\n        \"description\": \"\"\n      }\n    },\n    {\n      \"column\": \"CT Pct Adults with College Degree\",\n      \"properties\": {\n        \"dtype\": \"number\",\n        \"std\": 0.1657044006992193,\n        \"min\": 0.0914932680538556,\n        \"max\": 1.0,\n        \"num_unique_values\": 7434,\n        \"samples\": [\n          0.633653846153846,\n          0.530878404296126,\n          0.317539319131993\n        ],\n        \"semantic_type\": \"\",\n        \"description\": \"\"\n      }\n    },\n    {\n      \"column\": \"CT Pct Childre In Married Couple Family\",\n      \"properties\": {\n        \"dtype\": \"number\",\n        \"std\": 0.1967644613545431,\n        \"min\": 0.0,\n        \"max\": 1.0,\n        \"num_unique_values\": 7222,\n        \"samples\": [\n          0.675862068965517,\n          0.484988452655889,\n          0.709677419354839\n        ],\n        \"semantic_type\": \"\",\n        \"description\": \"\"\n      }\n    },\n    {\n      \"column\": \"CT Median Household Income\",\n      \"properties\": {\n        \"dtype\": \"number\",\n        \"std\": 24228.057078784932,\n        \"min\": 3589.0,\n        \"max\": 226181.0,\n        \"num_unique_values\": 6675,\n        \"samples\": [\n          29898.0,\n          48385.0,\n          25595.0\n        ],\n        \"semantic_type\": \"\",\n        \"description\": \"\"\n      }\n    },\n    {\n      \"column\": \"School ACT average (or equivalent if SAT score)\",\n      \"properties\": {\n        \"dtype\": \"number\",\n        \"std\": 2.5952011456853015,\n        \"min\": -3.07081807081807,\n        \"max\": 32.3626373626374,\n        \"num_unique_values\": 1016,\n        \"samples\": [\n          20.7191697191697,\n          20.7118437118437,\n          19.2002442002442\n        ],\n        \"semantic_type\": \"\",\n        \"description\": \"\"\n      }\n    },\n    {\n      \"column\": \"School Pct Free and Reduced Lunch\",\n      \"properties\": {\n        \"dtype\": \"number\",\n        \"std\": 0.2397540219050612,\n        \"min\": -0.0545454545454545,\n        \"max\": 0.998728813559322,\n        \"num_unique_values\": 7597,\n        \"samples\": [\n          0.726003490401396,\n          0.161780673181325,\n          0.20600272851296\n        ],\n        \"semantic_type\": \"\",\n        \"description\": \"\"\n      }\n    }\n  ]\n}"
            }
          },
          "metadata": {},
          "execution_count": 4
        }
      ]
    },
    {
      "cell_type": "markdown",
      "metadata": {
        "id": "WZRfc1MVmq31"
      },
      "source": [
        "##### $\\rightarrow$ Rename the columns."
      ]
    },
    {
      "cell_type": "code",
      "metadata": {
        "id": "s0o_K3NvBG66"
      },
      "source": [
        "df = df.rename(columns={\"NCESSCH School ID\":\"id\",\n",
        "              \"CT Pct Adults with College Degree\":\"percent_college\",\n",
        "              \"CT Unemployment Rate\":\"rate_unemployment\",\n",
        "              \"CT Pct Childre In Married Couple Family\":\"percent_married\",\n",
        "              \"CT Median Household Income\":\"median_income\",\n",
        "              \"School ACT average (or equivalent if SAT score)\":\"average_act\",\n",
        "              \"School Pct Free and Reduced Lunch\":\"percent_lunch\"})"
      ],
      "execution_count": 5,
      "outputs": []
    },
    {
      "cell_type": "code",
      "source": [
        "df.head()"
      ],
      "metadata": {
        "id": "W6o669FmM4ai",
        "colab": {
          "base_uri": "https://localhost:8080/",
          "height": 226
        },
        "outputId": "9a2806b9-cab3-4a48-a028-2e61bf6f020d"
      },
      "execution_count": 6,
      "outputs": [
        {
          "output_type": "execute_result",
          "data": {
            "text/plain": [
              "             id  rate_unemployment  percent_college  percent_married  \\\n",
              "0  100001600143           0.117962         0.445283         0.346495   \n",
              "1  100008000024           0.063984         0.662765         0.767619   \n",
              "2  100008000225           0.056460         0.701864         0.713090   \n",
              "3  100017000029           0.044739         0.692062         0.641283   \n",
              "4  100018000040           0.077014         0.640060         0.834402   \n",
              "\n",
              "   median_income  average_act  percent_lunch  \n",
              "0        42820.0    20.433455       0.066901  \n",
              "1        89320.0    19.498168       0.112412  \n",
              "2        84140.0    19.554335       0.096816  \n",
              "3        56500.0    17.737485       0.296960  \n",
              "4        54015.0    18.245421       0.262641  "
            ],
            "text/html": [
              "\n",
              "  <div id=\"df-46200539-ddaa-4959-a21d-15f784847403\" class=\"colab-df-container\">\n",
              "    <div>\n",
              "<style scoped>\n",
              "    .dataframe tbody tr th:only-of-type {\n",
              "        vertical-align: middle;\n",
              "    }\n",
              "\n",
              "    .dataframe tbody tr th {\n",
              "        vertical-align: top;\n",
              "    }\n",
              "\n",
              "    .dataframe thead th {\n",
              "        text-align: right;\n",
              "    }\n",
              "</style>\n",
              "<table border=\"1\" class=\"dataframe\">\n",
              "  <thead>\n",
              "    <tr style=\"text-align: right;\">\n",
              "      <th></th>\n",
              "      <th>id</th>\n",
              "      <th>rate_unemployment</th>\n",
              "      <th>percent_college</th>\n",
              "      <th>percent_married</th>\n",
              "      <th>median_income</th>\n",
              "      <th>average_act</th>\n",
              "      <th>percent_lunch</th>\n",
              "    </tr>\n",
              "  </thead>\n",
              "  <tbody>\n",
              "    <tr>\n",
              "      <th>0</th>\n",
              "      <td>100001600143</td>\n",
              "      <td>0.117962</td>\n",
              "      <td>0.445283</td>\n",
              "      <td>0.346495</td>\n",
              "      <td>42820.0</td>\n",
              "      <td>20.433455</td>\n",
              "      <td>0.066901</td>\n",
              "    </tr>\n",
              "    <tr>\n",
              "      <th>1</th>\n",
              "      <td>100008000024</td>\n",
              "      <td>0.063984</td>\n",
              "      <td>0.662765</td>\n",
              "      <td>0.767619</td>\n",
              "      <td>89320.0</td>\n",
              "      <td>19.498168</td>\n",
              "      <td>0.112412</td>\n",
              "    </tr>\n",
              "    <tr>\n",
              "      <th>2</th>\n",
              "      <td>100008000225</td>\n",
              "      <td>0.056460</td>\n",
              "      <td>0.701864</td>\n",
              "      <td>0.713090</td>\n",
              "      <td>84140.0</td>\n",
              "      <td>19.554335</td>\n",
              "      <td>0.096816</td>\n",
              "    </tr>\n",
              "    <tr>\n",
              "      <th>3</th>\n",
              "      <td>100017000029</td>\n",
              "      <td>0.044739</td>\n",
              "      <td>0.692062</td>\n",
              "      <td>0.641283</td>\n",
              "      <td>56500.0</td>\n",
              "      <td>17.737485</td>\n",
              "      <td>0.296960</td>\n",
              "    </tr>\n",
              "    <tr>\n",
              "      <th>4</th>\n",
              "      <td>100018000040</td>\n",
              "      <td>0.077014</td>\n",
              "      <td>0.640060</td>\n",
              "      <td>0.834402</td>\n",
              "      <td>54015.0</td>\n",
              "      <td>18.245421</td>\n",
              "      <td>0.262641</td>\n",
              "    </tr>\n",
              "  </tbody>\n",
              "</table>\n",
              "</div>\n",
              "    <div class=\"colab-df-buttons\">\n",
              "\n",
              "  <div class=\"colab-df-container\">\n",
              "    <button class=\"colab-df-convert\" onclick=\"convertToInteractive('df-46200539-ddaa-4959-a21d-15f784847403')\"\n",
              "            title=\"Convert this dataframe to an interactive table.\"\n",
              "            style=\"display:none;\">\n",
              "\n",
              "  <svg xmlns=\"http://www.w3.org/2000/svg\" height=\"24px\" viewBox=\"0 -960 960 960\">\n",
              "    <path d=\"M120-120v-720h720v720H120Zm60-500h600v-160H180v160Zm220 220h160v-160H400v160Zm0 220h160v-160H400v160ZM180-400h160v-160H180v160Zm440 0h160v-160H620v160ZM180-180h160v-160H180v160Zm440 0h160v-160H620v160Z\"/>\n",
              "  </svg>\n",
              "    </button>\n",
              "\n",
              "  <style>\n",
              "    .colab-df-container {\n",
              "      display:flex;\n",
              "      gap: 12px;\n",
              "    }\n",
              "\n",
              "    .colab-df-convert {\n",
              "      background-color: #E8F0FE;\n",
              "      border: none;\n",
              "      border-radius: 50%;\n",
              "      cursor: pointer;\n",
              "      display: none;\n",
              "      fill: #1967D2;\n",
              "      height: 32px;\n",
              "      padding: 0 0 0 0;\n",
              "      width: 32px;\n",
              "    }\n",
              "\n",
              "    .colab-df-convert:hover {\n",
              "      background-color: #E2EBFA;\n",
              "      box-shadow: 0px 1px 2px rgba(60, 64, 67, 0.3), 0px 1px 3px 1px rgba(60, 64, 67, 0.15);\n",
              "      fill: #174EA6;\n",
              "    }\n",
              "\n",
              "    .colab-df-buttons div {\n",
              "      margin-bottom: 4px;\n",
              "    }\n",
              "\n",
              "    [theme=dark] .colab-df-convert {\n",
              "      background-color: #3B4455;\n",
              "      fill: #D2E3FC;\n",
              "    }\n",
              "\n",
              "    [theme=dark] .colab-df-convert:hover {\n",
              "      background-color: #434B5C;\n",
              "      box-shadow: 0px 1px 3px 1px rgba(0, 0, 0, 0.15);\n",
              "      filter: drop-shadow(0px 1px 2px rgba(0, 0, 0, 0.3));\n",
              "      fill: #FFFFFF;\n",
              "    }\n",
              "  </style>\n",
              "\n",
              "    <script>\n",
              "      const buttonEl =\n",
              "        document.querySelector('#df-46200539-ddaa-4959-a21d-15f784847403 button.colab-df-convert');\n",
              "      buttonEl.style.display =\n",
              "        google.colab.kernel.accessAllowed ? 'block' : 'none';\n",
              "\n",
              "      async function convertToInteractive(key) {\n",
              "        const element = document.querySelector('#df-46200539-ddaa-4959-a21d-15f784847403');\n",
              "        const dataTable =\n",
              "          await google.colab.kernel.invokeFunction('convertToInteractive',\n",
              "                                                    [key], {});\n",
              "        if (!dataTable) return;\n",
              "\n",
              "        const docLinkHtml = 'Like what you see? Visit the ' +\n",
              "          '<a target=\"_blank\" href=https://colab.research.google.com/notebooks/data_table.ipynb>data table notebook</a>'\n",
              "          + ' to learn more about interactive tables.';\n",
              "        element.innerHTML = '';\n",
              "        dataTable['output_type'] = 'display_data';\n",
              "        await google.colab.output.renderOutput(dataTable, element);\n",
              "        const docLink = document.createElement('div');\n",
              "        docLink.innerHTML = docLinkHtml;\n",
              "        element.appendChild(docLink);\n",
              "      }\n",
              "    </script>\n",
              "  </div>\n",
              "\n",
              "\n",
              "<div id=\"df-327650bc-7333-4bef-8f63-82a011b487de\">\n",
              "  <button class=\"colab-df-quickchart\" onclick=\"quickchart('df-327650bc-7333-4bef-8f63-82a011b487de')\"\n",
              "            title=\"Suggest charts\"\n",
              "            style=\"display:none;\">\n",
              "\n",
              "<svg xmlns=\"http://www.w3.org/2000/svg\" height=\"24px\"viewBox=\"0 0 24 24\"\n",
              "     width=\"24px\">\n",
              "    <g>\n",
              "        <path d=\"M19 3H5c-1.1 0-2 .9-2 2v14c0 1.1.9 2 2 2h14c1.1 0 2-.9 2-2V5c0-1.1-.9-2-2-2zM9 17H7v-7h2v7zm4 0h-2V7h2v10zm4 0h-2v-4h2v4z\"/>\n",
              "    </g>\n",
              "</svg>\n",
              "  </button>\n",
              "\n",
              "<style>\n",
              "  .colab-df-quickchart {\n",
              "      --bg-color: #E8F0FE;\n",
              "      --fill-color: #1967D2;\n",
              "      --hover-bg-color: #E2EBFA;\n",
              "      --hover-fill-color: #174EA6;\n",
              "      --disabled-fill-color: #AAA;\n",
              "      --disabled-bg-color: #DDD;\n",
              "  }\n",
              "\n",
              "  [theme=dark] .colab-df-quickchart {\n",
              "      --bg-color: #3B4455;\n",
              "      --fill-color: #D2E3FC;\n",
              "      --hover-bg-color: #434B5C;\n",
              "      --hover-fill-color: #FFFFFF;\n",
              "      --disabled-bg-color: #3B4455;\n",
              "      --disabled-fill-color: #666;\n",
              "  }\n",
              "\n",
              "  .colab-df-quickchart {\n",
              "    background-color: var(--bg-color);\n",
              "    border: none;\n",
              "    border-radius: 50%;\n",
              "    cursor: pointer;\n",
              "    display: none;\n",
              "    fill: var(--fill-color);\n",
              "    height: 32px;\n",
              "    padding: 0;\n",
              "    width: 32px;\n",
              "  }\n",
              "\n",
              "  .colab-df-quickchart:hover {\n",
              "    background-color: var(--hover-bg-color);\n",
              "    box-shadow: 0 1px 2px rgba(60, 64, 67, 0.3), 0 1px 3px 1px rgba(60, 64, 67, 0.15);\n",
              "    fill: var(--button-hover-fill-color);\n",
              "  }\n",
              "\n",
              "  .colab-df-quickchart-complete:disabled,\n",
              "  .colab-df-quickchart-complete:disabled:hover {\n",
              "    background-color: var(--disabled-bg-color);\n",
              "    fill: var(--disabled-fill-color);\n",
              "    box-shadow: none;\n",
              "  }\n",
              "\n",
              "  .colab-df-spinner {\n",
              "    border: 2px solid var(--fill-color);\n",
              "    border-color: transparent;\n",
              "    border-bottom-color: var(--fill-color);\n",
              "    animation:\n",
              "      spin 1s steps(1) infinite;\n",
              "  }\n",
              "\n",
              "  @keyframes spin {\n",
              "    0% {\n",
              "      border-color: transparent;\n",
              "      border-bottom-color: var(--fill-color);\n",
              "      border-left-color: var(--fill-color);\n",
              "    }\n",
              "    20% {\n",
              "      border-color: transparent;\n",
              "      border-left-color: var(--fill-color);\n",
              "      border-top-color: var(--fill-color);\n",
              "    }\n",
              "    30% {\n",
              "      border-color: transparent;\n",
              "      border-left-color: var(--fill-color);\n",
              "      border-top-color: var(--fill-color);\n",
              "      border-right-color: var(--fill-color);\n",
              "    }\n",
              "    40% {\n",
              "      border-color: transparent;\n",
              "      border-right-color: var(--fill-color);\n",
              "      border-top-color: var(--fill-color);\n",
              "    }\n",
              "    60% {\n",
              "      border-color: transparent;\n",
              "      border-right-color: var(--fill-color);\n",
              "    }\n",
              "    80% {\n",
              "      border-color: transparent;\n",
              "      border-right-color: var(--fill-color);\n",
              "      border-bottom-color: var(--fill-color);\n",
              "    }\n",
              "    90% {\n",
              "      border-color: transparent;\n",
              "      border-bottom-color: var(--fill-color);\n",
              "    }\n",
              "  }\n",
              "</style>\n",
              "\n",
              "  <script>\n",
              "    async function quickchart(key) {\n",
              "      const quickchartButtonEl =\n",
              "        document.querySelector('#' + key + ' button');\n",
              "      quickchartButtonEl.disabled = true;  // To prevent multiple clicks.\n",
              "      quickchartButtonEl.classList.add('colab-df-spinner');\n",
              "      try {\n",
              "        const charts = await google.colab.kernel.invokeFunction(\n",
              "            'suggestCharts', [key], {});\n",
              "      } catch (error) {\n",
              "        console.error('Error during call to suggestCharts:', error);\n",
              "      }\n",
              "      quickchartButtonEl.classList.remove('colab-df-spinner');\n",
              "      quickchartButtonEl.classList.add('colab-df-quickchart-complete');\n",
              "    }\n",
              "    (() => {\n",
              "      let quickchartButtonEl =\n",
              "        document.querySelector('#df-327650bc-7333-4bef-8f63-82a011b487de button');\n",
              "      quickchartButtonEl.style.display =\n",
              "        google.colab.kernel.accessAllowed ? 'block' : 'none';\n",
              "    })();\n",
              "  </script>\n",
              "</div>\n",
              "\n",
              "    </div>\n",
              "  </div>\n"
            ],
            "application/vnd.google.colaboratory.intrinsic+json": {
              "type": "dataframe",
              "variable_name": "df",
              "summary": "{\n  \"name\": \"df\",\n  \"rows\": 7986,\n  \"fields\": [\n    {\n      \"column\": \"id\",\n      \"properties\": {\n        \"dtype\": \"date\",\n        \"min\": 100001600143,\n        \"max\": 560583000335,\n        \"num_unique_values\": 7986,\n        \"samples\": [\n          390487903405,\n          170993005792,\n          551269001670\n        ],\n        \"semantic_type\": \"\",\n        \"description\": \"\"\n      }\n    },\n    {\n      \"column\": \"rate_unemployment\",\n      \"properties\": {\n        \"dtype\": \"number\",\n        \"std\": 0.05895866375580089,\n        \"min\": 0.0,\n        \"max\": 0.590277777777778,\n        \"num_unique_values\": 7312,\n        \"samples\": [\n          0.081255028157683,\n          0.0856921287320667,\n          0.084409594095941\n        ],\n        \"semantic_type\": \"\",\n        \"description\": \"\"\n      }\n    },\n    {\n      \"column\": \"percent_college\",\n      \"properties\": {\n        \"dtype\": \"number\",\n        \"std\": 0.1657044006992193,\n        \"min\": 0.0914932680538556,\n        \"max\": 1.0,\n        \"num_unique_values\": 7434,\n        \"samples\": [\n          0.633653846153846,\n          0.530878404296126,\n          0.317539319131993\n        ],\n        \"semantic_type\": \"\",\n        \"description\": \"\"\n      }\n    },\n    {\n      \"column\": \"percent_married\",\n      \"properties\": {\n        \"dtype\": \"number\",\n        \"std\": 0.1967644613545431,\n        \"min\": 0.0,\n        \"max\": 1.0,\n        \"num_unique_values\": 7222,\n        \"samples\": [\n          0.675862068965517,\n          0.484988452655889,\n          0.709677419354839\n        ],\n        \"semantic_type\": \"\",\n        \"description\": \"\"\n      }\n    },\n    {\n      \"column\": \"median_income\",\n      \"properties\": {\n        \"dtype\": \"number\",\n        \"std\": 24228.057078784932,\n        \"min\": 3589.0,\n        \"max\": 226181.0,\n        \"num_unique_values\": 6675,\n        \"samples\": [\n          29898.0,\n          48385.0,\n          25595.0\n        ],\n        \"semantic_type\": \"\",\n        \"description\": \"\"\n      }\n    },\n    {\n      \"column\": \"average_act\",\n      \"properties\": {\n        \"dtype\": \"number\",\n        \"std\": 2.5952011456853015,\n        \"min\": -3.07081807081807,\n        \"max\": 32.3626373626374,\n        \"num_unique_values\": 1016,\n        \"samples\": [\n          20.7191697191697,\n          20.7118437118437,\n          19.2002442002442\n        ],\n        \"semantic_type\": \"\",\n        \"description\": \"\"\n      }\n    },\n    {\n      \"column\": \"percent_lunch\",\n      \"properties\": {\n        \"dtype\": \"number\",\n        \"std\": 0.2397540219050612,\n        \"min\": -0.0545454545454545,\n        \"max\": 0.998728813559322,\n        \"num_unique_values\": 7597,\n        \"samples\": [\n          0.726003490401396,\n          0.161780673181325,\n          0.20600272851296\n        ],\n        \"semantic_type\": \"\",\n        \"description\": \"\"\n      }\n    }\n  ]\n}"
            }
          },
          "metadata": {},
          "execution_count": 6
        }
      ]
    },
    {
      "cell_type": "markdown",
      "source": [
        "## Quick data cleaning"
      ],
      "metadata": {
        "id": "HXJmTCk2NCCB"
      }
    },
    {
      "cell_type": "markdown",
      "source": [
        "##### $\\rightarrow$ Check the range of each variable."
      ],
      "metadata": {
        "id": "LArpzsEgoTaU"
      }
    },
    {
      "cell_type": "code",
      "source": [
        "df.agg(['min','max'])"
      ],
      "metadata": {
        "id": "T-U_GO79bPUp",
        "colab": {
          "base_uri": "https://localhost:8080/",
          "height": 132
        },
        "outputId": "130f6ed4-ab45-422a-eaa4-1d6d3422001b"
      },
      "execution_count": 7,
      "outputs": [
        {
          "output_type": "execute_result",
          "data": {
            "text/plain": [
              "               id  rate_unemployment  percent_college  percent_married  \\\n",
              "min  100001600143           0.000000         0.091493              0.0   \n",
              "max  560583000335           0.590278         1.000000              1.0   \n",
              "\n",
              "     median_income  average_act  percent_lunch  \n",
              "min         3589.0    -3.070818      -0.054545  \n",
              "max       226181.0    32.362637       0.998729  "
            ],
            "text/html": [
              "\n",
              "  <div id=\"df-321d7cdd-e30f-4b59-a45f-419683456484\" class=\"colab-df-container\">\n",
              "    <div>\n",
              "<style scoped>\n",
              "    .dataframe tbody tr th:only-of-type {\n",
              "        vertical-align: middle;\n",
              "    }\n",
              "\n",
              "    .dataframe tbody tr th {\n",
              "        vertical-align: top;\n",
              "    }\n",
              "\n",
              "    .dataframe thead th {\n",
              "        text-align: right;\n",
              "    }\n",
              "</style>\n",
              "<table border=\"1\" class=\"dataframe\">\n",
              "  <thead>\n",
              "    <tr style=\"text-align: right;\">\n",
              "      <th></th>\n",
              "      <th>id</th>\n",
              "      <th>rate_unemployment</th>\n",
              "      <th>percent_college</th>\n",
              "      <th>percent_married</th>\n",
              "      <th>median_income</th>\n",
              "      <th>average_act</th>\n",
              "      <th>percent_lunch</th>\n",
              "    </tr>\n",
              "  </thead>\n",
              "  <tbody>\n",
              "    <tr>\n",
              "      <th>min</th>\n",
              "      <td>100001600143</td>\n",
              "      <td>0.000000</td>\n",
              "      <td>0.091493</td>\n",
              "      <td>0.0</td>\n",
              "      <td>3589.0</td>\n",
              "      <td>-3.070818</td>\n",
              "      <td>-0.054545</td>\n",
              "    </tr>\n",
              "    <tr>\n",
              "      <th>max</th>\n",
              "      <td>560583000335</td>\n",
              "      <td>0.590278</td>\n",
              "      <td>1.000000</td>\n",
              "      <td>1.0</td>\n",
              "      <td>226181.0</td>\n",
              "      <td>32.362637</td>\n",
              "      <td>0.998729</td>\n",
              "    </tr>\n",
              "  </tbody>\n",
              "</table>\n",
              "</div>\n",
              "    <div class=\"colab-df-buttons\">\n",
              "\n",
              "  <div class=\"colab-df-container\">\n",
              "    <button class=\"colab-df-convert\" onclick=\"convertToInteractive('df-321d7cdd-e30f-4b59-a45f-419683456484')\"\n",
              "            title=\"Convert this dataframe to an interactive table.\"\n",
              "            style=\"display:none;\">\n",
              "\n",
              "  <svg xmlns=\"http://www.w3.org/2000/svg\" height=\"24px\" viewBox=\"0 -960 960 960\">\n",
              "    <path d=\"M120-120v-720h720v720H120Zm60-500h600v-160H180v160Zm220 220h160v-160H400v160Zm0 220h160v-160H400v160ZM180-400h160v-160H180v160Zm440 0h160v-160H620v160ZM180-180h160v-160H180v160Zm440 0h160v-160H620v160Z\"/>\n",
              "  </svg>\n",
              "    </button>\n",
              "\n",
              "  <style>\n",
              "    .colab-df-container {\n",
              "      display:flex;\n",
              "      gap: 12px;\n",
              "    }\n",
              "\n",
              "    .colab-df-convert {\n",
              "      background-color: #E8F0FE;\n",
              "      border: none;\n",
              "      border-radius: 50%;\n",
              "      cursor: pointer;\n",
              "      display: none;\n",
              "      fill: #1967D2;\n",
              "      height: 32px;\n",
              "      padding: 0 0 0 0;\n",
              "      width: 32px;\n",
              "    }\n",
              "\n",
              "    .colab-df-convert:hover {\n",
              "      background-color: #E2EBFA;\n",
              "      box-shadow: 0px 1px 2px rgba(60, 64, 67, 0.3), 0px 1px 3px 1px rgba(60, 64, 67, 0.15);\n",
              "      fill: #174EA6;\n",
              "    }\n",
              "\n",
              "    .colab-df-buttons div {\n",
              "      margin-bottom: 4px;\n",
              "    }\n",
              "\n",
              "    [theme=dark] .colab-df-convert {\n",
              "      background-color: #3B4455;\n",
              "      fill: #D2E3FC;\n",
              "    }\n",
              "\n",
              "    [theme=dark] .colab-df-convert:hover {\n",
              "      background-color: #434B5C;\n",
              "      box-shadow: 0px 1px 3px 1px rgba(0, 0, 0, 0.15);\n",
              "      filter: drop-shadow(0px 1px 2px rgba(0, 0, 0, 0.3));\n",
              "      fill: #FFFFFF;\n",
              "    }\n",
              "  </style>\n",
              "\n",
              "    <script>\n",
              "      const buttonEl =\n",
              "        document.querySelector('#df-321d7cdd-e30f-4b59-a45f-419683456484 button.colab-df-convert');\n",
              "      buttonEl.style.display =\n",
              "        google.colab.kernel.accessAllowed ? 'block' : 'none';\n",
              "\n",
              "      async function convertToInteractive(key) {\n",
              "        const element = document.querySelector('#df-321d7cdd-e30f-4b59-a45f-419683456484');\n",
              "        const dataTable =\n",
              "          await google.colab.kernel.invokeFunction('convertToInteractive',\n",
              "                                                    [key], {});\n",
              "        if (!dataTable) return;\n",
              "\n",
              "        const docLinkHtml = 'Like what you see? Visit the ' +\n",
              "          '<a target=\"_blank\" href=https://colab.research.google.com/notebooks/data_table.ipynb>data table notebook</a>'\n",
              "          + ' to learn more about interactive tables.';\n",
              "        element.innerHTML = '';\n",
              "        dataTable['output_type'] = 'display_data';\n",
              "        await google.colab.output.renderOutput(dataTable, element);\n",
              "        const docLink = document.createElement('div');\n",
              "        docLink.innerHTML = docLinkHtml;\n",
              "        element.appendChild(docLink);\n",
              "      }\n",
              "    </script>\n",
              "  </div>\n",
              "\n",
              "\n",
              "<div id=\"df-663ecc86-6c8f-4ba3-b632-247bc8b9ce05\">\n",
              "  <button class=\"colab-df-quickchart\" onclick=\"quickchart('df-663ecc86-6c8f-4ba3-b632-247bc8b9ce05')\"\n",
              "            title=\"Suggest charts\"\n",
              "            style=\"display:none;\">\n",
              "\n",
              "<svg xmlns=\"http://www.w3.org/2000/svg\" height=\"24px\"viewBox=\"0 0 24 24\"\n",
              "     width=\"24px\">\n",
              "    <g>\n",
              "        <path d=\"M19 3H5c-1.1 0-2 .9-2 2v14c0 1.1.9 2 2 2h14c1.1 0 2-.9 2-2V5c0-1.1-.9-2-2-2zM9 17H7v-7h2v7zm4 0h-2V7h2v10zm4 0h-2v-4h2v4z\"/>\n",
              "    </g>\n",
              "</svg>\n",
              "  </button>\n",
              "\n",
              "<style>\n",
              "  .colab-df-quickchart {\n",
              "      --bg-color: #E8F0FE;\n",
              "      --fill-color: #1967D2;\n",
              "      --hover-bg-color: #E2EBFA;\n",
              "      --hover-fill-color: #174EA6;\n",
              "      --disabled-fill-color: #AAA;\n",
              "      --disabled-bg-color: #DDD;\n",
              "  }\n",
              "\n",
              "  [theme=dark] .colab-df-quickchart {\n",
              "      --bg-color: #3B4455;\n",
              "      --fill-color: #D2E3FC;\n",
              "      --hover-bg-color: #434B5C;\n",
              "      --hover-fill-color: #FFFFFF;\n",
              "      --disabled-bg-color: #3B4455;\n",
              "      --disabled-fill-color: #666;\n",
              "  }\n",
              "\n",
              "  .colab-df-quickchart {\n",
              "    background-color: var(--bg-color);\n",
              "    border: none;\n",
              "    border-radius: 50%;\n",
              "    cursor: pointer;\n",
              "    display: none;\n",
              "    fill: var(--fill-color);\n",
              "    height: 32px;\n",
              "    padding: 0;\n",
              "    width: 32px;\n",
              "  }\n",
              "\n",
              "  .colab-df-quickchart:hover {\n",
              "    background-color: var(--hover-bg-color);\n",
              "    box-shadow: 0 1px 2px rgba(60, 64, 67, 0.3), 0 1px 3px 1px rgba(60, 64, 67, 0.15);\n",
              "    fill: var(--button-hover-fill-color);\n",
              "  }\n",
              "\n",
              "  .colab-df-quickchart-complete:disabled,\n",
              "  .colab-df-quickchart-complete:disabled:hover {\n",
              "    background-color: var(--disabled-bg-color);\n",
              "    fill: var(--disabled-fill-color);\n",
              "    box-shadow: none;\n",
              "  }\n",
              "\n",
              "  .colab-df-spinner {\n",
              "    border: 2px solid var(--fill-color);\n",
              "    border-color: transparent;\n",
              "    border-bottom-color: var(--fill-color);\n",
              "    animation:\n",
              "      spin 1s steps(1) infinite;\n",
              "  }\n",
              "\n",
              "  @keyframes spin {\n",
              "    0% {\n",
              "      border-color: transparent;\n",
              "      border-bottom-color: var(--fill-color);\n",
              "      border-left-color: var(--fill-color);\n",
              "    }\n",
              "    20% {\n",
              "      border-color: transparent;\n",
              "      border-left-color: var(--fill-color);\n",
              "      border-top-color: var(--fill-color);\n",
              "    }\n",
              "    30% {\n",
              "      border-color: transparent;\n",
              "      border-left-color: var(--fill-color);\n",
              "      border-top-color: var(--fill-color);\n",
              "      border-right-color: var(--fill-color);\n",
              "    }\n",
              "    40% {\n",
              "      border-color: transparent;\n",
              "      border-right-color: var(--fill-color);\n",
              "      border-top-color: var(--fill-color);\n",
              "    }\n",
              "    60% {\n",
              "      border-color: transparent;\n",
              "      border-right-color: var(--fill-color);\n",
              "    }\n",
              "    80% {\n",
              "      border-color: transparent;\n",
              "      border-right-color: var(--fill-color);\n",
              "      border-bottom-color: var(--fill-color);\n",
              "    }\n",
              "    90% {\n",
              "      border-color: transparent;\n",
              "      border-bottom-color: var(--fill-color);\n",
              "    }\n",
              "  }\n",
              "</style>\n",
              "\n",
              "  <script>\n",
              "    async function quickchart(key) {\n",
              "      const quickchartButtonEl =\n",
              "        document.querySelector('#' + key + ' button');\n",
              "      quickchartButtonEl.disabled = true;  // To prevent multiple clicks.\n",
              "      quickchartButtonEl.classList.add('colab-df-spinner');\n",
              "      try {\n",
              "        const charts = await google.colab.kernel.invokeFunction(\n",
              "            'suggestCharts', [key], {});\n",
              "      } catch (error) {\n",
              "        console.error('Error during call to suggestCharts:', error);\n",
              "      }\n",
              "      quickchartButtonEl.classList.remove('colab-df-spinner');\n",
              "      quickchartButtonEl.classList.add('colab-df-quickchart-complete');\n",
              "    }\n",
              "    (() => {\n",
              "      let quickchartButtonEl =\n",
              "        document.querySelector('#df-663ecc86-6c8f-4ba3-b632-247bc8b9ce05 button');\n",
              "      quickchartButtonEl.style.display =\n",
              "        google.colab.kernel.accessAllowed ? 'block' : 'none';\n",
              "    })();\n",
              "  </script>\n",
              "</div>\n",
              "\n",
              "    </div>\n",
              "  </div>\n"
            ],
            "application/vnd.google.colaboratory.intrinsic+json": {
              "type": "dataframe",
              "summary": "{\n  \"name\": \"df\",\n  \"rows\": 2,\n  \"fields\": [\n    {\n      \"column\": \"id\",\n      \"properties\": {\n        \"dtype\": \"number\",\n        \"std\": 325680231364,\n        \"min\": 100001600143,\n        \"max\": 560583000335,\n        \"num_unique_values\": 2,\n        \"samples\": [\n          560583000335,\n          100001600143\n        ],\n        \"semantic_type\": \"\",\n        \"description\": \"\"\n      }\n    },\n    {\n      \"column\": \"rate_unemployment\",\n      \"properties\": {\n        \"dtype\": \"number\",\n        \"std\": 0.4173894194503928,\n        \"min\": 0.0,\n        \"max\": 0.590277777777778,\n        \"num_unique_values\": 2,\n        \"samples\": [\n          0.590277777777778,\n          0.0\n        ],\n        \"semantic_type\": \"\",\n        \"description\": \"\"\n      }\n    },\n    {\n      \"column\": \"percent_college\",\n      \"properties\": {\n        \"dtype\": \"number\",\n        \"std\": 0.6424112709127477,\n        \"min\": 0.0914932680538556,\n        \"max\": 1.0,\n        \"num_unique_values\": 2,\n        \"samples\": [\n          1.0,\n          0.0914932680538556\n        ],\n        \"semantic_type\": \"\",\n        \"description\": \"\"\n      }\n    },\n    {\n      \"column\": \"percent_married\",\n      \"properties\": {\n        \"dtype\": \"number\",\n        \"std\": 0.7071067811865476,\n        \"min\": 0.0,\n        \"max\": 1.0,\n        \"num_unique_values\": 2,\n        \"samples\": [\n          1.0,\n          0.0\n        ],\n        \"semantic_type\": \"\",\n        \"description\": \"\"\n      }\n    },\n    {\n      \"column\": \"median_income\",\n      \"properties\": {\n        \"dtype\": \"number\",\n        \"std\": 157396.312637876,\n        \"min\": 3589.0,\n        \"max\": 226181.0,\n        \"num_unique_values\": 2,\n        \"samples\": [\n          226181.0,\n          3589.0\n        ],\n        \"semantic_type\": \"\",\n        \"description\": \"\"\n      }\n    },\n    {\n      \"column\": \"average_act\",\n      \"properties\": {\n        \"dtype\": \"number\",\n        \"std\": 25.05523661786768,\n        \"min\": -3.07081807081807,\n        \"max\": 32.3626373626374,\n        \"num_unique_values\": 2,\n        \"samples\": [\n          32.3626373626374,\n          -3.07081807081807\n        ],\n        \"semantic_type\": \"\",\n        \"description\": \"\"\n      }\n    },\n    {\n      \"column\": \"percent_lunch\",\n      \"properties\": {\n        \"dtype\": \"number\",\n        \"std\": 0.7447773774261851,\n        \"min\": -0.0545454545454545,\n        \"max\": 0.998728813559322,\n        \"num_unique_values\": 2,\n        \"samples\": [\n          0.998728813559322,\n          -0.0545454545454545\n        ],\n        \"semantic_type\": \"\",\n        \"description\": \"\"\n      }\n    }\n  ]\n}"
            }
          },
          "metadata": {},
          "execution_count": 7
        }
      ]
    },
    {
      "cell_type": "markdown",
      "metadata": {
        "id": "jwox89EUj91U"
      },
      "source": [
        "##### $\\rightarrow$ Set out-of-range values to `NaN`."
      ]
    },
    {
      "cell_type": "code",
      "metadata": {
        "id": "6k3MM2FiK4J9"
      },
      "source": [
        "df.loc[df['average_act'] < 1, 'average_act'] = np.nan"
      ],
      "execution_count": 8,
      "outputs": []
    },
    {
      "cell_type": "code",
      "metadata": {
        "id": "T8l3HdrxLRsZ"
      },
      "source": [
        "df.loc[df['percent_lunch'] < 0, 'percent_lunch'] = np.nan"
      ],
      "execution_count": 9,
      "outputs": []
    },
    {
      "cell_type": "markdown",
      "source": [
        "##### $\\rightarrow$ Find and replace `NaN` values of **input variables** with the mode of each column."
      ],
      "metadata": {
        "id": "Mas0Hbbvb6ft"
      }
    },
    {
      "cell_type": "code",
      "source": [
        "df.isna().sum()"
      ],
      "metadata": {
        "id": "Ywo-c7pONGL9",
        "colab": {
          "base_uri": "https://localhost:8080/",
          "height": 304
        },
        "outputId": "e3ffd5ce-b515-42a0-9599-142243414305"
      },
      "execution_count": 10,
      "outputs": [
        {
          "output_type": "execute_result",
          "data": {
            "text/plain": [
              "id                    0\n",
              "rate_unemployment    14\n",
              "percent_college      13\n",
              "percent_married      25\n",
              "median_income        20\n",
              "average_act           3\n",
              "percent_lunch        20\n",
              "dtype: int64"
            ],
            "text/html": [
              "<div>\n",
              "<style scoped>\n",
              "    .dataframe tbody tr th:only-of-type {\n",
              "        vertical-align: middle;\n",
              "    }\n",
              "\n",
              "    .dataframe tbody tr th {\n",
              "        vertical-align: top;\n",
              "    }\n",
              "\n",
              "    .dataframe thead th {\n",
              "        text-align: right;\n",
              "    }\n",
              "</style>\n",
              "<table border=\"1\" class=\"dataframe\">\n",
              "  <thead>\n",
              "    <tr style=\"text-align: right;\">\n",
              "      <th></th>\n",
              "      <th>0</th>\n",
              "    </tr>\n",
              "  </thead>\n",
              "  <tbody>\n",
              "    <tr>\n",
              "      <th>id</th>\n",
              "      <td>0</td>\n",
              "    </tr>\n",
              "    <tr>\n",
              "      <th>rate_unemployment</th>\n",
              "      <td>14</td>\n",
              "    </tr>\n",
              "    <tr>\n",
              "      <th>percent_college</th>\n",
              "      <td>13</td>\n",
              "    </tr>\n",
              "    <tr>\n",
              "      <th>percent_married</th>\n",
              "      <td>25</td>\n",
              "    </tr>\n",
              "    <tr>\n",
              "      <th>median_income</th>\n",
              "      <td>20</td>\n",
              "    </tr>\n",
              "    <tr>\n",
              "      <th>average_act</th>\n",
              "      <td>3</td>\n",
              "    </tr>\n",
              "    <tr>\n",
              "      <th>percent_lunch</th>\n",
              "      <td>20</td>\n",
              "    </tr>\n",
              "  </tbody>\n",
              "</table>\n",
              "</div><br><label><b>dtype:</b> int64</label>"
            ]
          },
          "metadata": {},
          "execution_count": 10
        }
      ]
    },
    {
      "cell_type": "code",
      "source": [
        "input_modes = df[df.columns.difference(['id','average_act'])].mode().iloc[0]"
      ],
      "metadata": {
        "id": "loHUFmcYs-pF"
      },
      "execution_count": 11,
      "outputs": []
    },
    {
      "cell_type": "code",
      "source": [
        "df = df.fillna(input_modes)"
      ],
      "metadata": {
        "id": "X2uPODuBOTMS"
      },
      "execution_count": 12,
      "outputs": []
    },
    {
      "cell_type": "code",
      "source": [
        "df.isna().sum()"
      ],
      "metadata": {
        "id": "a503ykLJO6UA",
        "colab": {
          "base_uri": "https://localhost:8080/",
          "height": 304
        },
        "outputId": "94fcb2d6-fd98-4519-dcaf-5838590b9e3e"
      },
      "execution_count": 13,
      "outputs": [
        {
          "output_type": "execute_result",
          "data": {
            "text/plain": [
              "id                   0\n",
              "rate_unemployment    0\n",
              "percent_college      0\n",
              "percent_married      0\n",
              "median_income        0\n",
              "average_act          3\n",
              "percent_lunch        0\n",
              "dtype: int64"
            ],
            "text/html": [
              "<div>\n",
              "<style scoped>\n",
              "    .dataframe tbody tr th:only-of-type {\n",
              "        vertical-align: middle;\n",
              "    }\n",
              "\n",
              "    .dataframe tbody tr th {\n",
              "        vertical-align: top;\n",
              "    }\n",
              "\n",
              "    .dataframe thead th {\n",
              "        text-align: right;\n",
              "    }\n",
              "</style>\n",
              "<table border=\"1\" class=\"dataframe\">\n",
              "  <thead>\n",
              "    <tr style=\"text-align: right;\">\n",
              "      <th></th>\n",
              "      <th>0</th>\n",
              "    </tr>\n",
              "  </thead>\n",
              "  <tbody>\n",
              "    <tr>\n",
              "      <th>id</th>\n",
              "      <td>0</td>\n",
              "    </tr>\n",
              "    <tr>\n",
              "      <th>rate_unemployment</th>\n",
              "      <td>0</td>\n",
              "    </tr>\n",
              "    <tr>\n",
              "      <th>percent_college</th>\n",
              "      <td>0</td>\n",
              "    </tr>\n",
              "    <tr>\n",
              "      <th>percent_married</th>\n",
              "      <td>0</td>\n",
              "    </tr>\n",
              "    <tr>\n",
              "      <th>median_income</th>\n",
              "      <td>0</td>\n",
              "    </tr>\n",
              "    <tr>\n",
              "      <th>average_act</th>\n",
              "      <td>3</td>\n",
              "    </tr>\n",
              "    <tr>\n",
              "      <th>percent_lunch</th>\n",
              "      <td>0</td>\n",
              "    </tr>\n",
              "  </tbody>\n",
              "</table>\n",
              "</div><br><label><b>dtype:</b> int64</label>"
            ]
          },
          "metadata": {},
          "execution_count": 13
        }
      ]
    },
    {
      "cell_type": "markdown",
      "source": [
        "##### $\\rightarrow$ Drop columns where the output variable `average_act` is `NaN`."
      ],
      "metadata": {
        "id": "g5cSfsUJpzgn"
      }
    },
    {
      "cell_type": "code",
      "source": [
        "df = df.dropna()"
      ],
      "metadata": {
        "id": "pWVRWav1FYlT"
      },
      "execution_count": 14,
      "outputs": []
    },
    {
      "cell_type": "code",
      "source": [
        "df.isna().sum()"
      ],
      "metadata": {
        "id": "S-0GCHOXFdtx",
        "colab": {
          "base_uri": "https://localhost:8080/",
          "height": 304
        },
        "outputId": "c00c474e-ae9a-4454-fd63-20527e7b4876"
      },
      "execution_count": 15,
      "outputs": [
        {
          "output_type": "execute_result",
          "data": {
            "text/plain": [
              "id                   0\n",
              "rate_unemployment    0\n",
              "percent_college      0\n",
              "percent_married      0\n",
              "median_income        0\n",
              "average_act          0\n",
              "percent_lunch        0\n",
              "dtype: int64"
            ],
            "text/html": [
              "<div>\n",
              "<style scoped>\n",
              "    .dataframe tbody tr th:only-of-type {\n",
              "        vertical-align: middle;\n",
              "    }\n",
              "\n",
              "    .dataframe tbody tr th {\n",
              "        vertical-align: top;\n",
              "    }\n",
              "\n",
              "    .dataframe thead th {\n",
              "        text-align: right;\n",
              "    }\n",
              "</style>\n",
              "<table border=\"1\" class=\"dataframe\">\n",
              "  <thead>\n",
              "    <tr style=\"text-align: right;\">\n",
              "      <th></th>\n",
              "      <th>0</th>\n",
              "    </tr>\n",
              "  </thead>\n",
              "  <tbody>\n",
              "    <tr>\n",
              "      <th>id</th>\n",
              "      <td>0</td>\n",
              "    </tr>\n",
              "    <tr>\n",
              "      <th>rate_unemployment</th>\n",
              "      <td>0</td>\n",
              "    </tr>\n",
              "    <tr>\n",
              "      <th>percent_college</th>\n",
              "      <td>0</td>\n",
              "    </tr>\n",
              "    <tr>\n",
              "      <th>percent_married</th>\n",
              "      <td>0</td>\n",
              "    </tr>\n",
              "    <tr>\n",
              "      <th>median_income</th>\n",
              "      <td>0</td>\n",
              "    </tr>\n",
              "    <tr>\n",
              "      <th>average_act</th>\n",
              "      <td>0</td>\n",
              "    </tr>\n",
              "    <tr>\n",
              "      <th>percent_lunch</th>\n",
              "      <td>0</td>\n",
              "    </tr>\n",
              "  </tbody>\n",
              "</table>\n",
              "</div><br><label><b>dtype:</b> int64</label>"
            ]
          },
          "metadata": {},
          "execution_count": 15
        }
      ]
    },
    {
      "cell_type": "markdown",
      "source": [
        "## Train test split"
      ],
      "metadata": {
        "id": "jqJVReuIPuPf"
      }
    },
    {
      "cell_type": "markdown",
      "metadata": {
        "id": "mCAJeAxVmpNZ"
      },
      "source": [
        "##### $\\rightarrow$ Define the matrix of predictor variables `X` to be all columns except `id` and `average_act` and define the output variable `y` to be `average_act`."
      ]
    },
    {
      "cell_type": "code",
      "metadata": {
        "id": "aU9BHPhMIsdv"
      },
      "source": [
        "X = df[df.columns.difference(['id','average_act'])]\n",
        "y = df['average_act']"
      ],
      "execution_count": 16,
      "outputs": []
    },
    {
      "cell_type": "markdown",
      "metadata": {
        "id": "ntkSr4VjnnLm"
      },
      "source": [
        "##### $\\rightarrow$ Split the data into training and testing sets. Keep 20% of the data for the test set."
      ]
    },
    {
      "cell_type": "code",
      "metadata": {
        "id": "ndwXqaHXLlm0"
      },
      "source": [
        "X_train, X_test, y_train, y_test = train_test_split(X, y, test_size=.2, random_state = 10)"
      ],
      "execution_count": 17,
      "outputs": []
    },
    {
      "cell_type": "markdown",
      "metadata": {
        "id": "24acaX4jLXgJ"
      },
      "source": [
        "##### $\\rightarrow$ Scale the predictor variables in the training set to have mean 0 and standard deviation 1."
      ]
    },
    {
      "cell_type": "markdown",
      "metadata": {
        "id": "U9kpmHjDLQCx"
      },
      "source": [
        "Define the scaler using only the training data. For the validation set approach to work, we can not incorporate any knowledge of the validation set's properties into the model building process."
      ]
    },
    {
      "cell_type": "code",
      "metadata": {
        "id": "5Y0qyK8RFAEQ"
      },
      "source": [
        "scaler = preprocessing.StandardScaler().fit(X_train)"
      ],
      "execution_count": 18,
      "outputs": []
    },
    {
      "cell_type": "markdown",
      "metadata": {
        "id": "w3yag5X1LaCq"
      },
      "source": [
        "##### $\\rightarrow$ Perform the scaling transform on the predictors in the training and testing sets."
      ]
    },
    {
      "cell_type": "code",
      "metadata": {
        "id": "qljZeLLIFKfS"
      },
      "source": [
        "X_train = scaler.transform(X_train)\n",
        "X_test = scaler.transform(X_test)"
      ],
      "execution_count": 19,
      "outputs": []
    },
    {
      "cell_type": "markdown",
      "source": [
        "### Linear regression using `sklearn`"
      ],
      "metadata": {
        "id": "59R0HdAaIlb3"
      }
    },
    {
      "cell_type": "markdown",
      "source": [
        "##### $\\rightarrow$ Use `sklearn` to fit a linear regression model to the training data."
      ],
      "metadata": {
        "id": "XPhq4GqVOmRn"
      }
    },
    {
      "cell_type": "code",
      "source": [
        "# Define the model\n",
        "model_lr = LinearRegression()\n",
        "\n",
        "# Fit the model\n",
        "model_lr.fit(X_train, y_train)\n",
        "\n",
        "# Compute test mean squared error\n",
        "mse_lr = mean_squared_error(y_test, model_lr.predict(X_test))\n",
        "\n",
        "# Print the coefficients\n",
        "coef_sklearn = np.r_[model_lr.intercept_, model_lr.coef_]\n",
        "print(coef_sklearn.round(3))\n",
        "\n",
        "# Plot predictions\n",
        "figure = plt.figure(figsize=(8, 6))\n",
        "\n",
        "plt.plot(y_test, model_lr.predict(X_test), 'o', alpha = 0.4)\n",
        "plt.xlabel('Average ACT score',fontsize = 20)\n",
        "plt.title('Lin. Reg.' + ' ' + ' Test MSE = ' + str(mse_lr.round(3)),fontsize = 14)\n",
        "plt.ylabel('Predicted Average ACT score',fontsize = 20);\n"
      ],
      "metadata": {
        "id": "UrG_dxNsInDn",
        "colab": {
          "base_uri": "https://localhost:8080/",
          "height": 590
        },
        "outputId": "0deadce9-397c-4193-af0c-a9fe7e87f95c"
      },
      "execution_count": 20,
      "outputs": [
        {
          "output_type": "stream",
          "name": "stdout",
          "text": [
            "[ 2.0183e+01 -1.3000e-02  2.8500e-01 -1.7990e+00  1.3000e-02 -1.4400e-01]\n"
          ]
        },
        {
          "output_type": "display_data",
          "data": {
            "text/plain": [
              "<Figure size 800x600 with 1 Axes>"
            ],
            "image/png": "[encoded data removed]"
          },
          "metadata": {}
        }
      ]
    },
    {
      "cell_type": "markdown",
      "source": [
        "## Using `scipy` and `numpy`"
      ],
      "metadata": {
        "id": "2UvCFu7JPCB9"
      }
    },
    {
      "cell_type": "markdown",
      "source": [
        "Note that the matrix `X` contains only the predictor variables and not the constant term."
      ],
      "metadata": {
        "id": "8FzI6vqon1wX"
      }
    },
    {
      "cell_type": "code",
      "source": [
        "X.head()"
      ],
      "metadata": {
        "id": "iF9f7DZMoLD_",
        "colab": {
          "base_uri": "https://localhost:8080/",
          "height": 226
        },
        "outputId": "3244257c-4b19-4584-96a2-bdcb563f2d99"
      },
      "execution_count": 21,
      "outputs": [
        {
          "output_type": "execute_result",
          "data": {
            "text/plain": [
              "   median_income  percent_college  percent_lunch  percent_married  \\\n",
              "0        42820.0         0.445283       0.066901         0.346495   \n",
              "1        89320.0         0.662765       0.112412         0.767619   \n",
              "2        84140.0         0.701864       0.096816         0.713090   \n",
              "3        56500.0         0.692062       0.296960         0.641283   \n",
              "4        54015.0         0.640060       0.262641         0.834402   \n",
              "\n",
              "   rate_unemployment  \n",
              "0           0.117962  \n",
              "1           0.063984  \n",
              "2           0.056460  \n",
              "3           0.044739  \n",
              "4           0.077014  "
            ],
            "text/html": [
              "\n",
              "  <div id=\"df-e32fd654-b0b9-452a-bc40-3a620efda4e2\" class=\"colab-df-container\">\n",
              "    <div>\n",
              "<style scoped>\n",
              "    .dataframe tbody tr th:only-of-type {\n",
              "        vertical-align: middle;\n",
              "    }\n",
              "\n",
              "    .dataframe tbody tr th {\n",
              "        vertical-align: top;\n",
              "    }\n",
              "\n",
              "    .dataframe thead th {\n",
              "        text-align: right;\n",
              "    }\n",
              "</style>\n",
              "<table border=\"1\" class=\"dataframe\">\n",
              "  <thead>\n",
              "    <tr style=\"text-align: right;\">\n",
              "      <th></th>\n",
              "      <th>median_income</th>\n",
              "      <th>percent_college</th>\n",
              "      <th>percent_lunch</th>\n",
              "      <th>percent_married</th>\n",
              "      <th>rate_unemployment</th>\n",
              "    </tr>\n",
              "  </thead>\n",
              "  <tbody>\n",
              "    <tr>\n",
              "      <th>0</th>\n",
              "      <td>42820.0</td>\n",
              "      <td>0.445283</td>\n",
              "      <td>0.066901</td>\n",
              "      <td>0.346495</td>\n",
              "      <td>0.117962</td>\n",
              "    </tr>\n",
              "    <tr>\n",
              "      <th>1</th>\n",
              "      <td>89320.0</td>\n",
              "      <td>0.662765</td>\n",
              "      <td>0.112412</td>\n",
              "      <td>0.767619</td>\n",
              "      <td>0.063984</td>\n",
              "    </tr>\n",
              "    <tr>\n",
              "      <th>2</th>\n",
              "      <td>84140.0</td>\n",
              "      <td>0.701864</td>\n",
              "      <td>0.096816</td>\n",
              "      <td>0.713090</td>\n",
              "      <td>0.056460</td>\n",
              "    </tr>\n",
              "    <tr>\n",
              "      <th>3</th>\n",
              "      <td>56500.0</td>\n",
              "      <td>0.692062</td>\n",
              "      <td>0.296960</td>\n",
              "      <td>0.641283</td>\n",
              "      <td>0.044739</td>\n",
              "    </tr>\n",
              "    <tr>\n",
              "      <th>4</th>\n",
              "      <td>54015.0</td>\n",
              "      <td>0.640060</td>\n",
              "      <td>0.262641</td>\n",
              "      <td>0.834402</td>\n",
              "      <td>0.077014</td>\n",
              "    </tr>\n",
              "  </tbody>\n",
              "</table>\n",
              "</div>\n",
              "    <div class=\"colab-df-buttons\">\n",
              "\n",
              "  <div class=\"colab-df-container\">\n",
              "    <button class=\"colab-df-convert\" onclick=\"convertToInteractive('df-e32fd654-b0b9-452a-bc40-3a620efda4e2')\"\n",
              "            title=\"Convert this dataframe to an interactive table.\"\n",
              "            style=\"display:none;\">\n",
              "\n",
              "  <svg xmlns=\"http://www.w3.org/2000/svg\" height=\"24px\" viewBox=\"0 -960 960 960\">\n",
              "    <path d=\"M120-120v-720h720v720H120Zm60-500h600v-160H180v160Zm220 220h160v-160H400v160Zm0 220h160v-160H400v160ZM180-400h160v-160H180v160Zm440 0h160v-160H620v160ZM180-180h160v-160H180v160Zm440 0h160v-160H620v160Z\"/>\n",
              "  </svg>\n",
              "    </button>\n",
              "\n",
              "  <style>\n",
              "    .colab-df-container {\n",
              "      display:flex;\n",
              "      gap: 12px;\n",
              "    }\n",
              "\n",
              "    .colab-df-convert {\n",
              "      background-color: #E8F0FE;\n",
              "      border: none;\n",
              "      border-radius: 50%;\n",
              "      cursor: pointer;\n",
              "      display: none;\n",
              "      fill: #1967D2;\n",
              "      height: 32px;\n",
              "      padding: 0 0 0 0;\n",
              "      width: 32px;\n",
              "    }\n",
              "\n",
              "    .colab-df-convert:hover {\n",
              "      background-color: #E2EBFA;\n",
              "      box-shadow: 0px 1px 2px rgba(60, 64, 67, 0.3), 0px 1px 3px 1px rgba(60, 64, 67, 0.15);\n",
              "      fill: #174EA6;\n",
              "    }\n",
              "\n",
              "    .colab-df-buttons div {\n",
              "      margin-bottom: 4px;\n",
              "    }\n",
              "\n",
              "    [theme=dark] .colab-df-convert {\n",
              "      background-color: #3B4455;\n",
              "      fill: #D2E3FC;\n",
              "    }\n",
              "\n",
              "    [theme=dark] .colab-df-convert:hover {\n",
              "      background-color: #434B5C;\n",
              "      box-shadow: 0px 1px 3px 1px rgba(0, 0, 0, 0.15);\n",
              "      filter: drop-shadow(0px 1px 2px rgba(0, 0, 0, 0.3));\n",
              "      fill: #FFFFFF;\n",
              "    }\n",
              "  </style>\n",
              "\n",
              "    <script>\n",
              "      const buttonEl =\n",
              "        document.querySelector('#df-e32fd654-b0b9-452a-bc40-3a620efda4e2 button.colab-df-convert');\n",
              "      buttonEl.style.display =\n",
              "        google.colab.kernel.accessAllowed ? 'block' : 'none';\n",
              "\n",
              "      async function convertToInteractive(key) {\n",
              "        const element = document.querySelector('#df-e32fd654-b0b9-452a-bc40-3a620efda4e2');\n",
              "        const dataTable =\n",
              "          await google.colab.kernel.invokeFunction('convertToInteractive',\n",
              "                                                    [key], {});\n",
              "        if (!dataTable) return;\n",
              "\n",
              "        const docLinkHtml = 'Like what you see? Visit the ' +\n",
              "          '<a target=\"_blank\" href=https://colab.research.google.com/notebooks/data_table.ipynb>data table notebook</a>'\n",
              "          + ' to learn more about interactive tables.';\n",
              "        element.innerHTML = '';\n",
              "        dataTable['output_type'] = 'display_data';\n",
              "        await google.colab.output.renderOutput(dataTable, element);\n",
              "        const docLink = document.createElement('div');\n",
              "        docLink.innerHTML = docLinkHtml;\n",
              "        element.appendChild(docLink);\n",
              "      }\n",
              "    </script>\n",
              "  </div>\n",
              "\n",
              "\n",
              "<div id=\"df-90000816-682e-42d4-8b34-3f2830f0dc99\">\n",
              "  <button class=\"colab-df-quickchart\" onclick=\"quickchart('df-90000816-682e-42d4-8b34-3f2830f0dc99')\"\n",
              "            title=\"Suggest charts\"\n",
              "            style=\"display:none;\">\n",
              "\n",
              "<svg xmlns=\"http://www.w3.org/2000/svg\" height=\"24px\"viewBox=\"0 0 24 24\"\n",
              "     width=\"24px\">\n",
              "    <g>\n",
              "        <path d=\"M19 3H5c-1.1 0-2 .9-2 2v14c0 1.1.9 2 2 2h14c1.1 0 2-.9 2-2V5c0-1.1-.9-2-2-2zM9 17H7v-7h2v7zm4 0h-2V7h2v10zm4 0h-2v-4h2v4z\"/>\n",
              "    </g>\n",
              "</svg>\n",
              "  </button>\n",
              "\n",
              "<style>\n",
              "  .colab-df-quickchart {\n",
              "      --bg-color: #E8F0FE;\n",
              "      --fill-color: #1967D2;\n",
              "      --hover-bg-color: #E2EBFA;\n",
              "      --hover-fill-color: #174EA6;\n",
              "      --disabled-fill-color: #AAA;\n",
              "      --disabled-bg-color: #DDD;\n",
              "  }\n",
              "\n",
              "  [theme=dark] .colab-df-quickchart {\n",
              "      --bg-color: #3B4455;\n",
              "      --fill-color: #D2E3FC;\n",
              "      --hover-bg-color: #434B5C;\n",
              "      --hover-fill-color: #FFFFFF;\n",
              "      --disabled-bg-color: #3B4455;\n",
              "      --disabled-fill-color: #666;\n",
              "  }\n",
              "\n",
              "  .colab-df-quickchart {\n",
              "    background-color: var(--bg-color);\n",
              "    border: none;\n",
              "    border-radius: 50%;\n",
              "    cursor: pointer;\n",
              "    display: none;\n",
              "    fill: var(--fill-color);\n",
              "    height: 32px;\n",
              "    padding: 0;\n",
              "    width: 32px;\n",
              "  }\n",
              "\n",
              "  .colab-df-quickchart:hover {\n",
              "    background-color: var(--hover-bg-color);\n",
              "    box-shadow: 0 1px 2px rgba(60, 64, 67, 0.3), 0 1px 3px 1px rgba(60, 64, 67, 0.15);\n",
              "    fill: var(--button-hover-fill-color);\n",
              "  }\n",
              "\n",
              "  .colab-df-quickchart-complete:disabled,\n",
              "  .colab-df-quickchart-complete:disabled:hover {\n",
              "    background-color: var(--disabled-bg-color);\n",
              "    fill: var(--disabled-fill-color);\n",
              "    box-shadow: none;\n",
              "  }\n",
              "\n",
              "  .colab-df-spinner {\n",
              "    border: 2px solid var(--fill-color);\n",
              "    border-color: transparent;\n",
              "    border-bottom-color: var(--fill-color);\n",
              "    animation:\n",
              "      spin 1s steps(1) infinite;\n",
              "  }\n",
              "\n",
              "  @keyframes spin {\n",
              "    0% {\n",
              "      border-color: transparent;\n",
              "      border-bottom-color: var(--fill-color);\n",
              "      border-left-color: var(--fill-color);\n",
              "    }\n",
              "    20% {\n",
              "      border-color: transparent;\n",
              "      border-left-color: var(--fill-color);\n",
              "      border-top-color: var(--fill-color);\n",
              "    }\n",
              "    30% {\n",
              "      border-color: transparent;\n",
              "      border-left-color: var(--fill-color);\n",
              "      border-top-color: var(--fill-color);\n",
              "      border-right-color: var(--fill-color);\n",
              "    }\n",
              "    40% {\n",
              "      border-color: transparent;\n",
              "      border-right-color: var(--fill-color);\n",
              "      border-top-color: var(--fill-color);\n",
              "    }\n",
              "    60% {\n",
              "      border-color: transparent;\n",
              "      border-right-color: var(--fill-color);\n",
              "    }\n",
              "    80% {\n",
              "      border-color: transparent;\n",
              "      border-right-color: var(--fill-color);\n",
              "      border-bottom-color: var(--fill-color);\n",
              "    }\n",
              "    90% {\n",
              "      border-color: transparent;\n",
              "      border-bottom-color: var(--fill-color);\n",
              "    }\n",
              "  }\n",
              "</style>\n",
              "\n",
              "  <script>\n",
              "    async function quickchart(key) {\n",
              "      const quickchartButtonEl =\n",
              "        document.querySelector('#' + key + ' button');\n",
              "      quickchartButtonEl.disabled = true;  // To prevent multiple clicks.\n",
              "      quickchartButtonEl.classList.add('colab-df-spinner');\n",
              "      try {\n",
              "        const charts = await google.colab.kernel.invokeFunction(\n",
              "            'suggestCharts', [key], {});\n",
              "      } catch (error) {\n",
              "        console.error('Error during call to suggestCharts:', error);\n",
              "      }\n",
              "      quickchartButtonEl.classList.remove('colab-df-spinner');\n",
              "      quickchartButtonEl.classList.add('colab-df-quickchart-complete');\n",
              "    }\n",
              "    (() => {\n",
              "      let quickchartButtonEl =\n",
              "        document.querySelector('#df-90000816-682e-42d4-8b34-3f2830f0dc99 button');\n",
              "      quickchartButtonEl.style.display =\n",
              "        google.colab.kernel.accessAllowed ? 'block' : 'none';\n",
              "    })();\n",
              "  </script>\n",
              "</div>\n",
              "\n",
              "    </div>\n",
              "  </div>\n"
            ],
            "application/vnd.google.colaboratory.intrinsic+json": {
              "type": "dataframe",
              "variable_name": "X",
              "summary": "{\n  \"name\": \"X\",\n  \"rows\": 7983,\n  \"fields\": [\n    {\n      \"column\": \"median_income\",\n      \"properties\": {\n        \"dtype\": \"number\",\n        \"std\": 24201.89780772879,\n        \"min\": 3589.0,\n        \"max\": 226181.0,\n        \"num_unique_values\": 6674,\n        \"samples\": [\n          29898.0,\n          31935.0,\n          43000.0\n        ],\n        \"semantic_type\": \"\",\n        \"description\": \"\"\n      }\n    },\n    {\n      \"column\": \"percent_college\",\n      \"properties\": {\n        \"dtype\": \"number\",\n        \"std\": 0.16590128550046462,\n        \"min\": 0.0914932680538556,\n        \"max\": 1.0,\n        \"num_unique_values\": 7432,\n        \"samples\": [\n          0.465022421524664,\n          0.642195540308748,\n          0.317539319131993\n        ],\n        \"semantic_type\": \"\",\n        \"description\": \"\"\n      }\n    },\n    {\n      \"column\": \"percent_lunch\",\n      \"properties\": {\n        \"dtype\": \"number\",\n        \"std\": 0.23958701737510127,\n        \"min\": 0.0,\n        \"max\": 0.998728813559322,\n        \"num_unique_values\": 7574,\n        \"samples\": [\n          0.49237668161435,\n          0.293650793650794,\n          0.872607655502392\n        ],\n        \"semantic_type\": \"\",\n        \"description\": \"\"\n      }\n    },\n    {\n      \"column\": \"percent_married\",\n      \"properties\": {\n        \"dtype\": \"number\",\n        \"std\": 0.19740415950697734,\n        \"min\": 0.0,\n        \"max\": 1.0,\n        \"num_unique_values\": 7221,\n        \"samples\": [\n          0.675862068965517,\n          0.484988452655889,\n          0.709677419354839\n        ],\n        \"semantic_type\": \"\",\n        \"description\": \"\"\n      }\n    },\n    {\n      \"column\": \"rate_unemployment\",\n      \"properties\": {\n        \"dtype\": \"number\",\n        \"std\": 0.059057111930410675,\n        \"min\": 0.0,\n        \"max\": 0.590277777777778,\n        \"num_unique_values\": 7310,\n        \"samples\": [\n          0.081255028157683,\n          0.0856921287320667,\n          0.0683962264150943\n        ],\n        \"semantic_type\": \"\",\n        \"description\": \"\"\n      }\n    }\n  ]\n}"
            }
          },
          "metadata": {},
          "execution_count": 21
        }
      ]
    },
    {
      "cell_type": "markdown",
      "source": [
        "To use `numpy` and `scipy` to fit the regression model, we need to form the complete design matrix with a column of `1's`"
      ],
      "metadata": {
        "id": "jmFoQ9Lzocl5"
      }
    },
    {
      "cell_type": "markdown",
      "source": [
        "##### $\\rightarrow$ Add a column of `1's` to the train and test matrices."
      ],
      "metadata": {
        "id": "zI_CqYUfooUN"
      }
    },
    {
      "cell_type": "code",
      "source": [
        "X_train_design = np.c_[np.ones(X_train.shape[0]), X_train]\n",
        "X_test_design = np.c_[np.ones(X_train.shape[0]), X_train]"
      ],
      "metadata": {
        "id": "nwscWdc4PH1p"
      },
      "execution_count": 22,
      "outputs": []
    },
    {
      "cell_type": "markdown",
      "source": [
        "### Linear regression with `linalg.lstsq`"
      ],
      "metadata": {
        "id": "VwYFm4Y6pJyQ"
      }
    },
    {
      "cell_type": "markdown",
      "source": [
        "##### $\\rightarrow$ Use `linalg.lstsq` to fit the regression line to the training data and compare the solution to the results found using `sklearn`."
      ],
      "metadata": {
        "id": "CH2kn7sYpWnx"
      }
    },
    {
      "cell_type": "code",
      "source": [
        "coef, _,_,_ = linalg.lstsq(X_train_design, y_train)"
      ],
      "metadata": {
        "id": "YpfVGuk8PBFe"
      },
      "execution_count": 23,
      "outputs": []
    },
    {
      "cell_type": "markdown",
      "source": [
        "Print the coefficients"
      ],
      "metadata": {
        "id": "H6lVvf1FpkxL"
      }
    },
    {
      "cell_type": "code",
      "source": [
        "coef"
      ],
      "metadata": {
        "id": "MnZu9kCkPrY5",
        "colab": {
          "base_uri": "https://localhost:8080/"
        },
        "outputId": "48d72b10-0a68-4303-bfcd-9bb9a116074c"
      },
      "execution_count": 24,
      "outputs": [
        {
          "output_type": "execute_result",
          "data": {
            "text/plain": [
              "array([ 2.01834424e+01, -1.30993353e-02,  2.84652223e-01, -1.79917508e+00,\n",
              "        1.27313299e-02, -1.44156285e-01])"
            ]
          },
          "metadata": {},
          "execution_count": 24
        }
      ]
    },
    {
      "cell_type": "markdown",
      "source": [
        "Print the coefficients from `sklearn`"
      ],
      "metadata": {
        "id": "wEiQtYtnpnfw"
      }
    },
    {
      "cell_type": "code",
      "source": [
        "print(coef_sklearn)\n"
      ],
      "metadata": {
        "id": "jRBd521qPzKf",
        "colab": {
          "base_uri": "https://localhost:8080/"
        },
        "outputId": "d650d3d5-6278-4f4f-ef73-498a097a55cd"
      },
      "execution_count": 25,
      "outputs": [
        {
          "output_type": "stream",
          "name": "stdout",
          "text": [
            "[ 2.01834424e+01 -1.30993353e-02  2.84652223e-01 -1.79917508e+00\n",
            "  1.27313299e-02 -1.44156285e-01]\n"
          ]
        }
      ]
    },
    {
      "cell_type": "markdown",
      "source": [
        "Compute the mean absolute difference"
      ],
      "metadata": {
        "id": "3_cJnzkssKTo"
      }
    },
    {
      "cell_type": "code",
      "source": [
        "mean_absolute_error(coef, coef_sklearn)"
      ],
      "metadata": {
        "id": "EKBF9E-VsW0x",
        "colab": {
          "base_uri": "https://localhost:8080/"
        },
        "outputId": "6a411c03-b0c5-4b5d-81be-15f0d7bd7a76"
      },
      "execution_count": 26,
      "outputs": [
        {
          "output_type": "execute_result",
          "data": {
            "text/plain": [
              "1.4146669946590862e-15"
            ]
          },
          "metadata": {},
          "execution_count": 26
        }
      ]
    },
    {
      "cell_type": "markdown",
      "source": [
        "### Use the formula for the solution"
      ],
      "metadata": {
        "id": "DRYTF3UKq_Dv"
      }
    },
    {
      "cell_type": "markdown",
      "source": [
        "We have seen that when the columns of $\\mathbf{X}$ are linearly independent, the normal equations have the unique solution $$\\hat{\\boldsymbol{\\beta}} = (\\mathbf{X}^T\\mathbf{X})^{-1}\\mathbf{X}^T\\mathbf{y}.$$\n",
        "\n",
        "The straightforward way to compute the coefficients would be to compute the solution exactly as written in the formula."
      ],
      "metadata": {
        "id": "vw98gmsBrZ5m"
      }
    },
    {
      "cell_type": "markdown",
      "source": [
        "##### $\\rightarrow$ Check that the columns of $\\mathbf{X}$ in the training data are linearly independent by computing the rank of the matrix, using `np.linalg.matrix_rank`, and comparing it to the number of columns."
      ],
      "metadata": {
        "id": "wKZglUvBREQn"
      }
    },
    {
      "cell_type": "code",
      "source": [
        "r = np.linalg.matrix_rank(X_train_design)\n",
        "\n",
        "num_col = X_train_design.shape[1]\n",
        "\n",
        "print('The rank is ', r, ' and the number of columns is', num_col)\n",
        "\n",
        "#checking to see if the columnns of X are linearly independent. Rank and col num equals"
      ],
      "metadata": {
        "id": "6gsS2uxYRKsK",
        "colab": {
          "base_uri": "https://localhost:8080/"
        },
        "outputId": "6fb8499c-02f7-45be-ac64-ecd3690e8df6"
      },
      "execution_count": 27,
      "outputs": [
        {
          "output_type": "stream",
          "name": "stdout",
          "text": [
            "The rank is  6  and the number of columns is 6\n"
          ]
        }
      ]
    },
    {
      "cell_type": "markdown",
      "source": [
        "##### $\\rightarrow$ Use the transpose `.T` and inverse `linalg.inv` operations in `numpy` to fit the regression line to the training data and compare the solution to the results found using `sklearn`."
      ],
      "metadata": {
        "id": "zCR7eZ3IrweV"
      }
    },
    {
      "cell_type": "code",
      "source": [
        "coef_formula = np.dot(linalg.inv(np.dot(X_train_design.T, X_train_design)), np.dot(X_train_design.T, y_train))"
      ],
      "metadata": {
        "id": "89xfZumWrwHz"
      },
      "execution_count": 28,
      "outputs": []
    },
    {
      "cell_type": "markdown",
      "source": [
        "Print the coefficients"
      ],
      "metadata": {
        "id": "QHTdCW9TtWEM"
      }
    },
    {
      "cell_type": "code",
      "source": [
        "coef_formula"
      ],
      "metadata": {
        "id": "9EnfWsLZtWEM",
        "colab": {
          "base_uri": "https://localhost:8080/"
        },
        "outputId": "806e7f24-4d7c-451b-bb05-8e448d9cf286"
      },
      "execution_count": 29,
      "outputs": [
        {
          "output_type": "execute_result",
          "data": {
            "text/plain": [
              "array([ 2.01834424e+01, -1.30993353e-02,  2.84652223e-01, -1.79917508e+00,\n",
              "        1.27313299e-02, -1.44156285e-01])"
            ]
          },
          "metadata": {},
          "execution_count": 29
        }
      ]
    },
    {
      "cell_type": "markdown",
      "source": [
        "Print the coefficients from `sklearn`"
      ],
      "metadata": {
        "id": "OKMlNM6stWEN"
      }
    },
    {
      "cell_type": "code",
      "source": [
        "print(coef_sklearn)"
      ],
      "metadata": {
        "id": "qRbVgEiLtWEN",
        "colab": {
          "base_uri": "https://localhost:8080/"
        },
        "outputId": "3e4aac3d-7165-41cb-ea03-944ef6e172a3"
      },
      "execution_count": 30,
      "outputs": [
        {
          "output_type": "stream",
          "name": "stdout",
          "text": [
            "[ 2.01834424e+01 -1.30993353e-02  2.84652223e-01 -1.79917508e+00\n",
            "  1.27313299e-02 -1.44156285e-01]\n"
          ]
        }
      ]
    },
    {
      "cell_type": "markdown",
      "source": [
        "Compute the mean absolute difference"
      ],
      "metadata": {
        "id": "QkpNreV1tWEN"
      }
    },
    {
      "cell_type": "code",
      "source": [
        "mean_absolute_error(coef_formula, coef_sklearn)"
      ],
      "metadata": {
        "id": "a272vJ9VtWEN",
        "colab": {
          "base_uri": "https://localhost:8080/"
        },
        "outputId": "8e6b7bad-ed90-4ce9-dee6-552887b34d06"
      },
      "execution_count": 31,
      "outputs": [
        {
          "output_type": "execute_result",
          "data": {
            "text/plain": [
              "8.757462347889581e-16"
            ]
          },
          "metadata": {},
          "execution_count": 31
        }
      ]
    },
    {
      "cell_type": "markdown",
      "source": [
        "##### **Investigation**\n",
        "Write a function called `lr_formula` that takes the design matrix $\\mathbf{X}$ and observations $\\mathbf{y}$ and returns the estimated coefficients in the regression line computed using the formula, as above. Check that it gives the same results you found above."
      ],
      "metadata": {
        "id": "4atf_haYskPa"
      }
    },
    {
      "cell_type": "code",
      "source": [
        "def lr_formula(X, y):\n",
        "  coef_formula = np.dot(linalg.inv(np.dot(X.T, X)), np.dot(X.T, y))\n",
        "  return coef_formula"
      ],
      "metadata": {
        "id": "HJqSj0CstnLm"
      },
      "execution_count": 32,
      "outputs": []
    },
    {
      "cell_type": "code",
      "source": [
        "lr_formula(X_train_design, y_train)"
      ],
      "metadata": {
        "colab": {
          "base_uri": "https://localhost:8080/"
        },
        "id": "ywCqCizeYi_e",
        "outputId": "c89d771c-cfb8-4215-8393-845b924db972"
      },
      "execution_count": 33,
      "outputs": [
        {
          "output_type": "execute_result",
          "data": {
            "text/plain": [
              "array([ 2.01834424e+01, -1.30993353e-02,  2.84652223e-01, -1.79917508e+00,\n",
              "        1.27313299e-02, -1.44156285e-01])"
            ]
          },
          "metadata": {},
          "execution_count": 33
        }
      ]
    },
    {
      "cell_type": "markdown",
      "source": [
        "## Cholesky"
      ],
      "metadata": {
        "id": "4sx0DJUYQnZ8"
      }
    },
    {
      "cell_type": "markdown",
      "source": [
        "Suppose that $\\mathbf{X}^T\\mathbf{X}$ has the Cholesky factorization $\\mathbf{X}^T\\mathbf{X} = \\mathbf{L}\\mathbf{L}^T$.\n",
        "\n",
        "If $\\mathbf{X}^T\\mathbf{X} = \\mathbf{L}\\mathbf{L}^T$, then the normal equations look like $\\mathbf{L}\\mathbf{L}^T\\boldsymbol{\\beta}= \\mathbf{X}^T\\mathbf{y}$.\n",
        "\n",
        "So, we can solve the triangular systems $\\mathbf{L}\\mathbf{z} = \\mathbf{X}^T\\mathbf{y}$ and $\\mathbf{L}^T\\boldsymbol{\\beta} = \\mathbf{z}$ to find $\\boldsymbol{\\beta}$.\n",
        "\n"
      ],
      "metadata": {
        "id": "YnovZDkcuOE5"
      }
    },
    {
      "cell_type": "markdown",
      "source": [
        "##### $\\rightarrow$ Use `linalg.cholesky` with option `lower = True` to fit the regression line to the training data and compare the solution to the results found using `sklearn`."
      ],
      "metadata": {
        "id": "M0exyRasubK6"
      }
    },
    {
      "cell_type": "markdown",
      "source": [
        "First compute the Cholesky factorization $\\mathbf{X}^T\\mathbf{X} = \\mathbf{L}\\mathbf{L}^T$."
      ],
      "metadata": {
        "id": "l1hr9Orju1AJ"
      }
    },
    {
      "cell_type": "code",
      "source": [
        "L = linalg.cholesky(np.dot(X_train_design.T, X_train_design), lower=True)"
      ],
      "metadata": {
        "id": "YwPGAvAXQwtC"
      },
      "execution_count": 34,
      "outputs": []
    },
    {
      "cell_type": "markdown",
      "source": [
        "Next solve the lower triangular system $\\mathbf{L}\\mathbf{z} = \\mathbf{X}^T\\mathbf{y}$ using `linalg.solve_triangular`"
      ],
      "metadata": {
        "id": "IXqbqFF1vWYv"
      }
    },
    {
      "cell_type": "code",
      "source": [
        "z = linalg.solve_triangular(L, np.dot(X_train_design.T, y_train), lower=True)"
      ],
      "metadata": {
        "id": "wNh-1ur_XUGJ"
      },
      "execution_count": 35,
      "outputs": []
    },
    {
      "cell_type": "markdown",
      "source": [
        "Finally, solve the upper triangular system $\\mathbf{L}^T\\boldsymbol{\\beta} = \\mathbf{z}$ to find $\\boldsymbol{\\beta}$."
      ],
      "metadata": {
        "id": "z5093i8Uvz2y"
      }
    },
    {
      "cell_type": "code",
      "source": [
        "coef_cholesky = linalg.solve_triangular(L.T, z, lower=False)"
      ],
      "metadata": {
        "id": "FiEO9F7aRuXx"
      },
      "execution_count": 36,
      "outputs": []
    },
    {
      "cell_type": "markdown",
      "source": [
        "Print the coefficients"
      ],
      "metadata": {
        "id": "DcGJuWSJubK7"
      }
    },
    {
      "cell_type": "code",
      "source": [
        "coef_cholesky"
      ],
      "metadata": {
        "id": "Sxz7H-0uubK7",
        "colab": {
          "base_uri": "https://localhost:8080/"
        },
        "outputId": "eed58758-f1d9-42de-8aea-45129375009f"
      },
      "execution_count": 37,
      "outputs": [
        {
          "output_type": "execute_result",
          "data": {
            "text/plain": [
              "array([ 2.01834424e+01, -1.30993353e-02,  2.84652223e-01, -1.79917508e+00,\n",
              "        1.27313299e-02, -1.44156285e-01])"
            ]
          },
          "metadata": {},
          "execution_count": 37
        }
      ]
    },
    {
      "cell_type": "markdown",
      "source": [
        "Print the coefficients from `sklearn`"
      ],
      "metadata": {
        "id": "ZTh1ptWSubK8"
      }
    },
    {
      "cell_type": "code",
      "source": [
        "print(coef_sklearn)"
      ],
      "metadata": {
        "id": "fAdYU4pSubK8",
        "colab": {
          "base_uri": "https://localhost:8080/"
        },
        "outputId": "154cf7f6-a4e8-46ca-d235-505d8f7d2db6"
      },
      "execution_count": 38,
      "outputs": [
        {
          "output_type": "stream",
          "name": "stdout",
          "text": [
            "[ 2.01834424e+01 -1.30993353e-02  2.84652223e-01 -1.79917508e+00\n",
            "  1.27313299e-02 -1.44156285e-01]\n"
          ]
        }
      ]
    },
    {
      "cell_type": "markdown",
      "source": [
        "Compute the mean absolute difference"
      ],
      "metadata": {
        "id": "gtYXTgwzubK8"
      }
    },
    {
      "cell_type": "code",
      "source": [
        "mean_absolute_error(coef_cholesky, coef_sklearn)"
      ],
      "metadata": {
        "id": "sw-4R9tAubK8",
        "colab": {
          "base_uri": "https://localhost:8080/"
        },
        "outputId": "0767f61b-abb3-4ea4-b45c-c2cf0f111454"
      },
      "execution_count": 39,
      "outputs": [
        {
          "output_type": "execute_result",
          "data": {
            "text/plain": [
              "7.441963711940502e-16"
            ]
          },
          "metadata": {},
          "execution_count": 39
        }
      ]
    },
    {
      "cell_type": "markdown",
      "source": [
        "##### **Investigation**\n",
        "Write a function called `lr_cholesky` that takes the design matrix $\\mathbf{X}$ and observations $\\mathbf{y}$ and returns the estimated coefficients in the regression line computed using the Cholesky factorization, as above. Check that it gives the same results you found above."
      ],
      "metadata": {
        "id": "7gjWgM8bwPy0"
      }
    },
    {
      "cell_type": "code",
      "source": [
        "def lr_cholesky(X, y):\n",
        "  L = linalg.cholesky(np.dot(X.T, X), lower = True)\n",
        "  z = linalg.solve_triangular(L,np.dot(X.T, y), lower = True)\n",
        "  coef_cholesky = linalg.solve_triangular(L.T, z, lower = False)\n",
        "  return coef_cholesky"
      ],
      "metadata": {
        "id": "KNNX1772wPy1"
      },
      "execution_count": 40,
      "outputs": []
    },
    {
      "cell_type": "code",
      "source": [
        "lr_cholesky(X_train_design, y_train)"
      ],
      "metadata": {
        "colab": {
          "base_uri": "https://localhost:8080/"
        },
        "id": "jCV3LnvEZL8J",
        "outputId": "9b393dc6-775c-40fd-94f1-6d9bfe151a83"
      },
      "execution_count": 41,
      "outputs": [
        {
          "output_type": "execute_result",
          "data": {
            "text/plain": [
              "array([ 2.01834424e+01, -1.30993353e-02,  2.84652223e-01, -1.79917508e+00,\n",
              "        1.27313299e-02, -1.44156285e-01])"
            ]
          },
          "metadata": {},
          "execution_count": 41
        }
      ]
    },
    {
      "cell_type": "markdown",
      "source": [
        "## QR"
      ],
      "metadata": {
        "id": "S7V2PWebYIbR"
      }
    },
    {
      "cell_type": "markdown",
      "source": [
        "If $\\mathbf{X} = \\mathbf{Q}\\mathbf{R}$ where $\\mathbf{Q}$ is orthogonal, then the normal equations can be simplified to $\\mathbf{R}\\boldsymbol{\\beta}= \\mathbf{Q}^T\\mathbf{y} $\n"
      ],
      "metadata": {
        "id": "WADAQOFWw-LP"
      }
    },
    {
      "cell_type": "markdown",
      "source": [
        "##### $\\rightarrow$ Use `linalg.qr` using the option `mode = 'economic'` to fit the regression line to the training data and compare the solution to the results found using `sklearn`."
      ],
      "metadata": {
        "id": "TCoEt0iJyMMx"
      }
    },
    {
      "cell_type": "markdown",
      "source": [
        "First compute the $QR$ factorization"
      ],
      "metadata": {
        "id": "igf_9f71yXKW"
      }
    },
    {
      "cell_type": "code",
      "source": [
        "Q, R = linalg.qr(X_train_design, mode = 'economic')"
      ],
      "metadata": {
        "id": "CV9BjUQcSJ01"
      },
      "execution_count": 42,
      "outputs": []
    },
    {
      "cell_type": "markdown",
      "source": [
        "Then solve the upper triangular system $\\mathbf{R}\\boldsymbol{\\beta}= \\mathbf{Q}^T\\mathbf{y} $ to find $\\boldsymbol{\\beta}$."
      ],
      "metadata": {
        "id": "MGJ1NsaGypQA"
      }
    },
    {
      "cell_type": "code",
      "source": [
        "coef_qr = linalg.solve_triangular(R, np.dot(Q.T, y_train), lower = False)"
      ],
      "metadata": {
        "id": "R8L5GA23Yo_U"
      },
      "execution_count": 43,
      "outputs": []
    },
    {
      "cell_type": "markdown",
      "source": [
        "Print the coefficients"
      ],
      "metadata": {
        "id": "9ujoIm0NyMMy"
      }
    },
    {
      "cell_type": "code",
      "source": [
        "coef_qr"
      ],
      "metadata": {
        "id": "RmlyEh5nyMMy",
        "colab": {
          "base_uri": "https://localhost:8080/"
        },
        "outputId": "6f54aa15-7290-41ed-eaba-09699bec4fb6"
      },
      "execution_count": 44,
      "outputs": [
        {
          "output_type": "execute_result",
          "data": {
            "text/plain": [
              "array([ 2.01834424e+01, -1.30993353e-02,  2.84652223e-01, -1.79917508e+00,\n",
              "        1.27313299e-02, -1.44156285e-01])"
            ]
          },
          "metadata": {},
          "execution_count": 44
        }
      ]
    },
    {
      "cell_type": "markdown",
      "source": [
        "Print the coefficients from `sklearn`"
      ],
      "metadata": {
        "id": "_442ZGqVyMMy"
      }
    },
    {
      "cell_type": "code",
      "source": [
        "print(coef_sklearn)"
      ],
      "metadata": {
        "id": "QDK2si6WyMMy",
        "colab": {
          "base_uri": "https://localhost:8080/"
        },
        "outputId": "ef1d0752-5ee0-4d7b-b36d-fa73d1718b57"
      },
      "execution_count": 45,
      "outputs": [
        {
          "output_type": "stream",
          "name": "stdout",
          "text": [
            "[ 2.01834424e+01 -1.30993353e-02  2.84652223e-01 -1.79917508e+00\n",
            "  1.27313299e-02 -1.44156285e-01]\n"
          ]
        }
      ]
    },
    {
      "cell_type": "markdown",
      "source": [
        "Compute the mean absolute difference"
      ],
      "metadata": {
        "id": "Q8cu_735yMMz"
      }
    },
    {
      "cell_type": "code",
      "source": [
        "mean_absolute_error(coef_qr, coef_sklearn)"
      ],
      "metadata": {
        "id": "Q9BAHcZpyMMz",
        "colab": {
          "base_uri": "https://localhost:8080/"
        },
        "outputId": "58489a62-3350-43cc-868a-3f38f9c169dd"
      },
      "execution_count": 46,
      "outputs": [
        {
          "output_type": "execute_result",
          "data": {
            "text/plain": [
              "1.284851854540155e-15"
            ]
          },
          "metadata": {},
          "execution_count": 46
        }
      ]
    },
    {
      "cell_type": "markdown",
      "source": [
        "##### **Investigation**\n",
        "Write a function called `lr_qr` that takes the design matrix $\\mathbf{X}$ and observations $\\mathbf{y}$ and returns the estimated coefficients in the regression line computed using the QR factorization, as above. Check that it gives the same results you found above."
      ],
      "metadata": {
        "id": "qekcpnoBzJr4"
      }
    },
    {
      "cell_type": "code",
      "source": [
        "def lr_qr(X, y):\n",
        "  Q, R  = linalg.qr(X, mode = 'economic')\n",
        "  coef_qr = linalg.solve_triangular(R, np.dot(Q.T, y), lower = False)\n",
        "  return coef_qr"
      ],
      "metadata": {
        "id": "IShNWAf_zJr4"
      },
      "execution_count": 47,
      "outputs": []
    },
    {
      "cell_type": "code",
      "source": [
        "lr_qr(X_train_design,y_train)"
      ],
      "metadata": {
        "colab": {
          "base_uri": "https://localhost:8080/"
        },
        "id": "ZDQ6Q24yZsJo",
        "outputId": "68fa2795-e7f8-4b94-9490-1a8c69096ad1"
      },
      "execution_count": 48,
      "outputs": [
        {
          "output_type": "execute_result",
          "data": {
            "text/plain": [
              "array([ 2.01834424e+01, -1.30993353e-02,  2.84652223e-01, -1.79917508e+00,\n",
              "        1.27313299e-02, -1.44156285e-01])"
            ]
          },
          "metadata": {},
          "execution_count": 48
        }
      ]
    },
    {
      "cell_type": "markdown",
      "source": [
        "They look the same."
      ],
      "metadata": {
        "id": "FrwhAN9bztrJ"
      }
    },
    {
      "cell_type": "markdown",
      "source": [
        "## SVD"
      ],
      "metadata": {
        "id": "4iH9rt-03L8q"
      }
    },
    {
      "cell_type": "markdown",
      "source": [
        "If the design matrix $\\mathbf{X}$ has full rank, and has the SVD $\\mathbf{X} = \\mathbf{U} \\boldsymbol{\\Sigma} \\mathbf{V}^T$, the solution to the normal equations is given by $$\\hat{\\boldsymbol{\\beta}} =  \\mathbf{X}^{\\dagger}\\mathbf{y} = \\mathbf{V} \\boldsymbol{\\Sigma}^{\\dagger}  \\mathbf{U}^T \\mathbf{y} = \\mathbf{V}\\boldsymbol{\\Sigma}_{p+1}^{-1}\\mathbf{U}_{1:p+1}^T\\mathbf{y}.$$\n",
        "\n",
        "This is equivalent to computing\n",
        "\n",
        "$$\\boldsymbol{\\hat{\\beta}}  = \\mathbf{V}\\mathbf{z}$$\n",
        "\n",
        "where\n",
        "\n",
        "$$ \\boldsymbol{\\Sigma}_{p+1} \\mathbf{z} = \\mathbf{U}_{1:p+1}^T\\mathbf{y}$$\n"
      ],
      "metadata": {
        "id": "GL4yzNMgz82x"
      }
    },
    {
      "cell_type": "markdown",
      "source": [
        "##### $\\rightarrow$ Use `linalg.svd` using the option `full_matrices = False` to fit the regression line to the training data and compare the solution to the results found using `sklearn`."
      ],
      "metadata": {
        "id": "9KgptaTT1E9N"
      }
    },
    {
      "cell_type": "markdown",
      "source": [
        "First compute the SVD factorization"
      ],
      "metadata": {
        "id": "rl0_Fujr1E9V"
      }
    },
    {
      "cell_type": "code",
      "source": [
        "U, s, Vt = linalg.svd(X_train_design, full_matrices = False)"
      ],
      "metadata": {
        "id": "5gvAX5nr3LC9"
      },
      "execution_count": 49,
      "outputs": []
    },
    {
      "cell_type": "markdown",
      "source": [
        "Note the sizes of each returned element:"
      ],
      "metadata": {
        "id": "qIGnclbK1eCM"
      }
    },
    {
      "cell_type": "code",
      "source": [
        "print(X_train_design.shape, U.shape, s.shape, Vt.shape)"
      ],
      "metadata": {
        "id": "Dcxaz1JS1df-",
        "colab": {
          "base_uri": "https://localhost:8080/"
        },
        "outputId": "c6b899b5-f840-4f58-8af7-fbc4a291af84"
      },
      "execution_count": 50,
      "outputs": [
        {
          "output_type": "stream",
          "name": "stdout",
          "text": [
            "(6386, 6) (6386, 6) (6,) (6, 6)\n"
          ]
        }
      ]
    },
    {
      "cell_type": "markdown",
      "source": [
        "Using `full_matrices = False` simplified the output by returning (1) only the singular values `s` and not the full matrix $\\boldsymbol{\\Sigma}$ and (2) the reduced $\\mathbf{U}$ matrix $\\mathbf{U}_{1:p+1}$."
      ],
      "metadata": {
        "id": "WqOES4w91yDl"
      }
    },
    {
      "cell_type": "markdown",
      "source": [
        "Solving $ \\boldsymbol{\\Sigma}_{p+1} \\mathbf{z} = \\mathbf{U}_{1:p+1}^T\\mathbf{y}$ is simple here because $\\boldsymbol{\\Sigma}_{p+1}$ is diagonal and $\\mathbf{z} = \\boldsymbol{\\Sigma}_{p+1}^{-1}\\mathbf{U}_{1:p+1}^T\\mathbf{y}$ can be found by element-wise dividing the vector $\\mathbf{U}_{1:p+1}^T\\mathbf{y}$ by the vector of singular values."
      ],
      "metadata": {
        "id": "2NNjlvlr1E9V"
      }
    },
    {
      "cell_type": "code",
      "source": [
        "z = np.dot(U.T, y_train)/s\n",
        "#think about solving systems via cholesk and QR, passed in full matrix and asked to solve the whole system.\n",
        "#know how to solve linear eqns, just needs the element wise division here"
      ],
      "metadata": {
        "id": "TcoWuswY3Z8G"
      },
      "execution_count": 51,
      "outputs": []
    },
    {
      "cell_type": "markdown",
      "source": [
        "Then multiply by $\\mathbf{V}$ to find the coefficients: $\\hat{\\boldsymbol{\\beta}}  = \\mathbf{V}\\mathbf{z}$. Note that we were given $\\mathbf{V}^T$, not $\\mathbf{V}$."
      ],
      "metadata": {
        "id": "gbr9MwiC3C5G"
      }
    },
    {
      "cell_type": "code",
      "source": [
        "coef_svd =np.dot(Vt.T, z)\n"
      ],
      "metadata": {
        "id": "l0-L-PNF3hKT"
      },
      "execution_count": 52,
      "outputs": []
    },
    {
      "cell_type": "markdown",
      "source": [
        "Print the coefficients"
      ],
      "metadata": {
        "id": "s_hD0Glj1E9V"
      }
    },
    {
      "cell_type": "code",
      "source": [
        "coef_svd"
      ],
      "metadata": {
        "id": "cpIXDDSt1E9V",
        "colab": {
          "base_uri": "https://localhost:8080/"
        },
        "outputId": "bdf48d9e-b17b-43c5-c965-4764824c1a67"
      },
      "execution_count": 53,
      "outputs": [
        {
          "output_type": "execute_result",
          "data": {
            "text/plain": [
              "array([ 2.01834424e+01, -1.30993353e-02,  2.84652223e-01, -1.79917508e+00,\n",
              "        1.27313299e-02, -1.44156285e-01])"
            ]
          },
          "metadata": {},
          "execution_count": 53
        }
      ]
    },
    {
      "cell_type": "markdown",
      "source": [
        "Print the coefficients from `sklearn`"
      ],
      "metadata": {
        "id": "fMe3pxuI1E9W"
      }
    },
    {
      "cell_type": "code",
      "source": [
        "print(coef_sklearn)"
      ],
      "metadata": {
        "id": "QEm1jSaJ1E9W",
        "colab": {
          "base_uri": "https://localhost:8080/"
        },
        "outputId": "9c898c8d-efd2-4dee-f595-172dfb2c2309"
      },
      "execution_count": 54,
      "outputs": [
        {
          "output_type": "stream",
          "name": "stdout",
          "text": [
            "[ 2.01834424e+01 -1.30993353e-02  2.84652223e-01 -1.79917508e+00\n",
            "  1.27313299e-02 -1.44156285e-01]\n"
          ]
        }
      ]
    },
    {
      "cell_type": "markdown",
      "source": [
        "Compute the mean absolute difference"
      ],
      "metadata": {
        "id": "e_YEPS451E9W"
      }
    },
    {
      "cell_type": "code",
      "source": [
        "mean_absolute_error(coef_svd, coef_sklearn)"
      ],
      "metadata": {
        "id": "d-8go2Ud1E9W",
        "colab": {
          "base_uri": "https://localhost:8080/"
        },
        "outputId": "c4116593-959d-4946-c104-278955db85d4"
      },
      "execution_count": 55,
      "outputs": [
        {
          "output_type": "execute_result",
          "data": {
            "text/plain": [
              "1.2596983641384914e-15"
            ]
          },
          "metadata": {},
          "execution_count": 55
        }
      ]
    },
    {
      "cell_type": "markdown",
      "source": [
        "##### **Investigation**\n",
        "Write a function called `lr_svd` that takes the design matrix $\\mathbf{X}$ and observations $\\mathbf{y}$ and returns the estimated coefficients in the regression line computed using the SVD, as above. Check that it gives the same results you found above."
      ],
      "metadata": {
        "id": "c2KhBEwH4uzc"
      }
    },
    {
      "cell_type": "code",
      "source": [
        "def lr_svd(X, y):\n",
        "  U,s, Vt = linalg.svd(X, full_matrices = False)\n",
        "  z = np.dot(U.T, y)/s\n",
        "  coef_svd = np.dot(Vt.T,z)\n",
        "  return coef_svd\n"
      ],
      "metadata": {
        "id": "4JUcH9p54uzd"
      },
      "execution_count": 56,
      "outputs": []
    },
    {
      "cell_type": "markdown",
      "source": [
        "They look the same."
      ],
      "metadata": {
        "id": "0HwSrTxU4uzd"
      }
    },
    {
      "cell_type": "markdown",
      "source": [
        "## Compare the methods"
      ],
      "metadata": {
        "id": "8GoH6VZC4oeb"
      }
    },
    {
      "cell_type": "markdown",
      "source": [
        "### Timing"
      ],
      "metadata": {
        "id": "6xQYwuneTn3_"
      }
    },
    {
      "cell_type": "markdown",
      "source": [
        "##### $\\rightarrow$ Use the magic function `%timeit` to time the computation of the regression coefficients using each function you defined above."
      ],
      "metadata": {
        "id": "fcxQFhYY9pg6"
      }
    },
    {
      "cell_type": "code",
      "source": [
        "%timeit lr_formula(X_train_design, y_train)"
      ],
      "metadata": {
        "id": "tRupYUtf5OHf",
        "colab": {
          "base_uri": "https://localhost:8080/"
        },
        "outputId": "52cb7e26-4018-4e6f-84b6-9ef7d37675e6"
      },
      "execution_count": 57,
      "outputs": [
        {
          "output_type": "stream",
          "name": "stdout",
          "text": [
            "1.33 ms ± 267 µs per loop (mean ± std. dev. of 7 runs, 100 loops each)\n"
          ]
        }
      ]
    },
    {
      "cell_type": "code",
      "source": [
        "%timeit lr_cholesky(X_train_design, y_train)"
      ],
      "metadata": {
        "id": "RGqJSH-85PyE",
        "colab": {
          "base_uri": "https://localhost:8080/"
        },
        "outputId": "6cf16637-2e9d-4997-ab19-b08516e0b9fe"
      },
      "execution_count": 58,
      "outputs": [
        {
          "output_type": "stream",
          "name": "stdout",
          "text": [
            "1.24 ms ± 289 µs per loop (mean ± std. dev. of 7 runs, 1000 loops each)\n"
          ]
        }
      ]
    },
    {
      "cell_type": "code",
      "source": [
        "%timeit lr_qr(X_train_design, y_train)"
      ],
      "metadata": {
        "id": "MYRFg0fd5SBc",
        "colab": {
          "base_uri": "https://localhost:8080/"
        },
        "outputId": "3254e56d-f1fd-4584-d160-aacffe8b3d65"
      },
      "execution_count": 59,
      "outputs": [
        {
          "output_type": "stream",
          "name": "stdout",
          "text": [
            "The slowest run took 4.50 times longer than the fastest. This could mean that an intermediate result is being cached.\n",
            "14 ms ± 6.57 ms per loop (mean ± std. dev. of 7 runs, 100 loops each)\n"
          ]
        }
      ]
    },
    {
      "cell_type": "code",
      "source": [
        "%timeit lr_svd(X_train_design, y_train)"
      ],
      "metadata": {
        "id": "ZU2KC6PI3ioU",
        "colab": {
          "base_uri": "https://localhost:8080/"
        },
        "outputId": "9b9211f6-460c-4113-e7f6-844fea20722e"
      },
      "execution_count": 60,
      "outputs": [
        {
          "output_type": "stream",
          "name": "stdout",
          "text": [
            "22.1 ms ± 6.44 ms per loop (mean ± std. dev. of 7 runs, 10 loops each)\n"
          ]
        }
      ]
    },
    {
      "cell_type": "markdown",
      "source": [
        "## Comments"
      ],
      "metadata": {
        "id": "z36l1xGYCBBp"
      }
    },
    {
      "cell_type": "markdown",
      "source": [
        "X_test_design = np.c_[np.ones(X_train.shape[0]), X_train] should use the test data:\n",
        "\n",
        "X_test_design = np.c_[np.ones(X_test.shape[0]), X_test]\n",
        "\n",
        "\n",
        "It is recommended that you use @ for matrix multiplication.\n",
        "\n",
        "Discuss the timing of the methods at the end."
      ],
      "metadata": {
        "id": "xQi9hRAUCCgI"
      }
    },
    {
      "cell_type": "code",
      "source": [],
      "metadata": {
        "id": "nfEtD6rpCBql"
      },
      "execution_count": 60,
      "outputs": []
    }
  ]
}